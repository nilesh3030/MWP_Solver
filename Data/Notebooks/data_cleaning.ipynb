{
 "cells": [
  {
   "cell_type": "code",
   "execution_count": 124,
   "id": "d566cb6f-601a-4a7b-8506-705f5a6bfca5",
   "metadata": {},
   "outputs": [
    {
     "name": "stdout",
     "output_type": "stream",
     "text": [
      "                                                                                                                                                                                                                            question  \\\n",
      "0  Two friends plan to walk along a 43-km trail, starting at opposite ends of the trail at the same time. If Friend P's rate is 15% faster than Friend Q's, how many kilometers will Friend P have walked when they pass each other?   \n",
      "1                                                          In the coordinate plane, points (x, 1) and (5, y) are on line k. If line k passes through the origin and has slope 1/5, then what are the values of x and y respectively?   \n",
      "2                                                            For all numbers p and q, the operation @ is defined by p@q = p^2 - pq. If xy ≠ 0, then which of the following can be equal to zero?\\nI. x@y\\nII. (xy)@y\\nIII. x@(x + y)   \n",
      "3               Carl is facing very difficult financial times and can only pay the interest on a $10,000 loan he has taken. The bank charges him a quarterly compound rate of 4%. What is the approximate interest he pays annually?   \n",
      "4                                                        The speed at which a man can row a boat in still water is 25 kmph. If he rows downstream, where the speed of current is 11 kmph, what time will he take to cover 80 metres?   \n",
      "\n",
      "                                                                 options  \\\n",
      "0                                     [A)21, B)21.5, C)22, D)22.5, E)23]   \n",
      "1                [A)4 and 1, B)1 and 5, C)5 and 1, D)3 and 5, E)5 and 3]   \n",
      "2      [A)II, B)I and II, C)I and III, D)II and III, E)All of the above]   \n",
      "3                         [A)$1600, B)$2000, C)$2150, D)$2500, E)$12000]   \n",
      "4  [A)18 seconds, B)27 seconds, C)26 seconds, D)12 seconds, E)8 seconds]   \n",
      "\n",
      "                                                                                                                                                                                                                                                                                                                                                                                                                                                                                                                                                                                                                                                                                                                                                             rationale  \\\n",
      "0                                                                                                                                                                                                                                                                                                                                                                                                                                                                                                                                                                                            If Q complete x kilometers, then P completes 1.15x kilometers.\\nx + 1.15x = 43\\n2.15x=43\\nx = 43/2.15 = 20\\nThen P will have have walked 1.15*20=23 km.\\nThe answer is E.   \n",
      "1                                                                                                                                                                                                                                                                                                                                                                                                                                                                                                                                                                                                             Line k passes through the origin and has slope 1/5 means that its equation is y=1/5*x.\\nThus: (x, 1)=(5, 1) and (5, y) = (5,1) -->x=5 and y=1\\nAnswer: C   \n",
      "2                                                                                                                                                                                                                                                                                                                            p@q = p^2 - pq=p(p-q).... so p@q will be zero if p=q or p=0.. but a cannot be equal to 0.. as per Q, x and y can take any int value except 0...\\nnow lets look at the choices..\\nwhen x=y, it will be 0... so ok...\\nwhen we put xy=y, it is possible when x=1 and y any integer... so ok again\\nwhen we put x=x+y.... only possibility when y=0 and it is given x and y cannot be 0....so not possible\\nonly l and ll possible ans B....   \n",
      "3  Usually, you are given the annual rate of interest and it is mentioned that it is annual rate.\\nThe bank charges him a quarterly compounded ANNUAL rate of 16%.\\nHere you find per quarter rate as (16/4)% = 4%\\nI have actually never seen a question with quarter rate given but since this question did not mentionannual rate of interestand since the options did not make sense with 4% annual rate of interest, it is apparent that the intent was a 4% quarterly rate. So the bank charges 4% every quarter and compounds it in the next quarter. Had it been a simple quarterly rate, we would have just found 4 * 4% of 10,000 = $1600 as our answer.\\nBut since, the interest is compounded, it will be a bit more than $1600. Option (A) looks correct.   \n",
      "4                                                                                                                                                                                                                                                                                                                                                                                                                                                                                                                                                                                                                               Speed of the boat downstream = 25 +11\\n= 36 kmph\\n= 36 * 5/18 = 10 m/s\\nHence time taken to cover 80 m = 80/10\\n= 8 seconds.\\nAnswer:E   \n",
      "\n",
      "  correct  \n",
      "0       E  \n",
      "1       C  \n",
      "2       B  \n",
      "3       A  \n",
      "4       E  \n"
     ]
    }
   ],
   "source": [
    "import pandas as pd\n",
    "import unicodedata\n",
    "import re\n",
    "import matplotlib.pyplot as plt\n",
    "\n",
    "df = pd.read_json(\"train.json\", lines=True)\n",
    "\n",
    "print(df.head())"
   ]
  },
  {
   "cell_type": "code",
   "execution_count": 125,
   "id": "46c99f4e-227b-4db7-8961-01ec2ba764d1",
   "metadata": {},
   "outputs": [
    {
     "data": {
      "text/plain": [
       "(97467, 4)"
      ]
     },
     "execution_count": 125,
     "metadata": {},
     "output_type": "execute_result"
    }
   ],
   "source": [
    "df.shape"
   ]
  },
  {
   "cell_type": "code",
   "execution_count": 126,
   "id": "3f634f59-d69a-4c26-aa07-1f5903afc2a7",
   "metadata": {},
   "outputs": [
    {
     "data": {
      "text/plain": [
       "Index(['question', 'options', 'rationale', 'correct'], dtype='object')"
      ]
     },
     "execution_count": 126,
     "metadata": {},
     "output_type": "execute_result"
    }
   ],
   "source": [
    "df.columns"
   ]
  },
  {
   "cell_type": "code",
   "execution_count": 127,
   "id": "05b874ca-7eca-44d0-b8cc-952a68cbdfba",
   "metadata": {},
   "outputs": [],
   "source": [
    "new_data = df[['question', 'rationale']]\n",
    "pd.set_option('display.max_colwidth', None)"
   ]
  },
  {
   "cell_type": "code",
   "execution_count": 128,
   "id": "e9b55f09-44d4-422b-a140-e67d311f0411",
   "metadata": {},
   "outputs": [
    {
     "data": {
      "text/html": [
       "<div>\n",
       "<style scoped>\n",
       "    .dataframe tbody tr th:only-of-type {\n",
       "        vertical-align: middle;\n",
       "    }\n",
       "\n",
       "    .dataframe tbody tr th {\n",
       "        vertical-align: top;\n",
       "    }\n",
       "\n",
       "    .dataframe thead th {\n",
       "        text-align: right;\n",
       "    }\n",
       "</style>\n",
       "<table border=\"1\" class=\"dataframe\">\n",
       "  <thead>\n",
       "    <tr style=\"text-align: right;\">\n",
       "      <th></th>\n",
       "      <th>question</th>\n",
       "      <th>rationale</th>\n",
       "    </tr>\n",
       "  </thead>\n",
       "  <tbody>\n",
       "    <tr>\n",
       "      <th>0</th>\n",
       "      <td>Two friends plan to walk along a 43-km trail, starting at opposite ends of the trail at the same time. If Friend P's rate is 15% faster than Friend Q's, how many kilometers will Friend P have walked when they pass each other?</td>\n",
       "      <td>If Q complete x kilometers, then P completes 1.15x kilometers.\\nx + 1.15x = 43\\n2.15x=43\\nx = 43/2.15 = 20\\nThen P will have have walked 1.15*20=23 km.\\nThe answer is E.</td>\n",
       "    </tr>\n",
       "    <tr>\n",
       "      <th>1</th>\n",
       "      <td>In the coordinate plane, points (x, 1) and (5, y) are on line k. If line k passes through the origin and has slope 1/5, then what are the values of x and y respectively?</td>\n",
       "      <td>Line k passes through the origin and has slope 1/5 means that its equation is y=1/5*x.\\nThus: (x, 1)=(5, 1) and (5, y) = (5,1) --&gt;x=5 and y=1\\nAnswer: C</td>\n",
       "    </tr>\n",
       "    <tr>\n",
       "      <th>2</th>\n",
       "      <td>For all numbers p and q, the operation @ is defined by p@q = p^2 - pq. If xy ≠ 0, then which of the following can be equal to zero?\\nI. x@y\\nII. (xy)@y\\nIII. x@(x + y)</td>\n",
       "      <td>p@q = p^2 - pq=p(p-q).... so p@q will be zero if p=q or p=0.. but a cannot be equal to 0.. as per Q, x and y can take any int value except 0...\\nnow lets look at the choices..\\nwhen x=y, it will be 0... so ok...\\nwhen we put xy=y, it is possible when x=1 and y any integer... so ok again\\nwhen we put x=x+y.... only possibility when y=0 and it is given x and y cannot be 0....so not possible\\nonly l and ll possible ans B....</td>\n",
       "    </tr>\n",
       "    <tr>\n",
       "      <th>3</th>\n",
       "      <td>Carl is facing very difficult financial times and can only pay the interest on a $10,000 loan he has taken. The bank charges him a quarterly compound rate of 4%. What is the approximate interest he pays annually?</td>\n",
       "      <td>Usually, you are given the annual rate of interest and it is mentioned that it is annual rate.\\nThe bank charges him a quarterly compounded ANNUAL rate of 16%.\\nHere you find per quarter rate as (16/4)% = 4%\\nI have actually never seen a question with quarter rate given but since this question did not mentionannual rate of interestand since the options did not make sense with 4% annual rate of interest, it is apparent that the intent was a 4% quarterly rate. So the bank charges 4% every quarter and compounds it in the next quarter. Had it been a simple quarterly rate, we would have just found 4 * 4% of 10,000 = $1600 as our answer.\\nBut since, the interest is compounded, it will be a bit more than $1600. Option (A) looks correct.</td>\n",
       "    </tr>\n",
       "    <tr>\n",
       "      <th>4</th>\n",
       "      <td>The speed at which a man can row a boat in still water is 25 kmph. If he rows downstream, where the speed of current is 11 kmph, what time will he take to cover 80 metres?</td>\n",
       "      <td>Speed of the boat downstream = 25 +11\\n= 36 kmph\\n= 36 * 5/18 = 10 m/s\\nHence time taken to cover 80 m = 80/10\\n= 8 seconds.\\nAnswer:E</td>\n",
       "    </tr>\n",
       "  </tbody>\n",
       "</table>\n",
       "</div>"
      ],
      "text/plain": [
       "                                                                                                                                                                                                                            question  \\\n",
       "0  Two friends plan to walk along a 43-km trail, starting at opposite ends of the trail at the same time. If Friend P's rate is 15% faster than Friend Q's, how many kilometers will Friend P have walked when they pass each other?   \n",
       "1                                                          In the coordinate plane, points (x, 1) and (5, y) are on line k. If line k passes through the origin and has slope 1/5, then what are the values of x and y respectively?   \n",
       "2                                                            For all numbers p and q, the operation @ is defined by p@q = p^2 - pq. If xy ≠ 0, then which of the following can be equal to zero?\\nI. x@y\\nII. (xy)@y\\nIII. x@(x + y)   \n",
       "3               Carl is facing very difficult financial times and can only pay the interest on a $10,000 loan he has taken. The bank charges him a quarterly compound rate of 4%. What is the approximate interest he pays annually?   \n",
       "4                                                        The speed at which a man can row a boat in still water is 25 kmph. If he rows downstream, where the speed of current is 11 kmph, what time will he take to cover 80 metres?   \n",
       "\n",
       "                                                                                                                                                                                                                                                                                                                                                                                                                                                                                                                                                                                                                                                                                                                                                             rationale  \n",
       "0                                                                                                                                                                                                                                                                                                                                                                                                                                                                                                                                                                                            If Q complete x kilometers, then P completes 1.15x kilometers.\\nx + 1.15x = 43\\n2.15x=43\\nx = 43/2.15 = 20\\nThen P will have have walked 1.15*20=23 km.\\nThe answer is E.  \n",
       "1                                                                                                                                                                                                                                                                                                                                                                                                                                                                                                                                                                                                             Line k passes through the origin and has slope 1/5 means that its equation is y=1/5*x.\\nThus: (x, 1)=(5, 1) and (5, y) = (5,1) -->x=5 and y=1\\nAnswer: C  \n",
       "2                                                                                                                                                                                                                                                                                                                            p@q = p^2 - pq=p(p-q).... so p@q will be zero if p=q or p=0.. but a cannot be equal to 0.. as per Q, x and y can take any int value except 0...\\nnow lets look at the choices..\\nwhen x=y, it will be 0... so ok...\\nwhen we put xy=y, it is possible when x=1 and y any integer... so ok again\\nwhen we put x=x+y.... only possibility when y=0 and it is given x and y cannot be 0....so not possible\\nonly l and ll possible ans B....  \n",
       "3  Usually, you are given the annual rate of interest and it is mentioned that it is annual rate.\\nThe bank charges him a quarterly compounded ANNUAL rate of 16%.\\nHere you find per quarter rate as (16/4)% = 4%\\nI have actually never seen a question with quarter rate given but since this question did not mentionannual rate of interestand since the options did not make sense with 4% annual rate of interest, it is apparent that the intent was a 4% quarterly rate. So the bank charges 4% every quarter and compounds it in the next quarter. Had it been a simple quarterly rate, we would have just found 4 * 4% of 10,000 = $1600 as our answer.\\nBut since, the interest is compounded, it will be a bit more than $1600. Option (A) looks correct.  \n",
       "4                                                                                                                                                                                                                                                                                                                                                                                                                                                                                                                                                                                                                               Speed of the boat downstream = 25 +11\\n= 36 kmph\\n= 36 * 5/18 = 10 m/s\\nHence time taken to cover 80 m = 80/10\\n= 8 seconds.\\nAnswer:E  "
      ]
     },
     "execution_count": 128,
     "metadata": {},
     "output_type": "execute_result"
    }
   ],
   "source": [
    "new_data.head()"
   ]
  },
  {
   "cell_type": "code",
   "execution_count": 129,
   "id": "476bace5-b11e-4cc9-8d29-f8aba8311774",
   "metadata": {},
   "outputs": [
    {
     "name": "stderr",
     "output_type": "stream",
     "text": [
      "/tmp/ipykernel_2008/2411044296.py:6: SettingWithCopyWarning: \n",
      "A value is trying to be set on a copy of a slice from a DataFrame.\n",
      "Try using .loc[row_indexer,col_indexer] = value instead\n",
      "\n",
      "See the caveats in the documentation: https://pandas.pydata.org/pandas-docs/stable/user_guide/indexing.html#returning-a-view-versus-a-copy\n",
      "  new_data[\"answer\"] = new_data[\"rationale\"].apply(clip_sentence)\n"
     ]
    }
   ],
   "source": [
    "# Define a function to clip the last occurrence of \\n in a sentence\n",
    "def clip_sentence(sentence):\n",
    "    return sentence.rsplit('\\n', 1)[0]\n",
    "\n",
    "# Apply the clipping operation to the \"sentence\" column\n",
    "new_data[\"answer\"] = new_data[\"rationale\"].apply(clip_sentence)"
   ]
  },
  {
   "cell_type": "code",
   "execution_count": 130,
   "id": "a3043a3a-7d5b-4148-9277-c03011352c8f",
   "metadata": {},
   "outputs": [
    {
     "data": {
      "text/html": [
       "<div>\n",
       "<style scoped>\n",
       "    .dataframe tbody tr th:only-of-type {\n",
       "        vertical-align: middle;\n",
       "    }\n",
       "\n",
       "    .dataframe tbody tr th {\n",
       "        vertical-align: top;\n",
       "    }\n",
       "\n",
       "    .dataframe thead th {\n",
       "        text-align: right;\n",
       "    }\n",
       "</style>\n",
       "<table border=\"1\" class=\"dataframe\">\n",
       "  <thead>\n",
       "    <tr style=\"text-align: right;\">\n",
       "      <th></th>\n",
       "      <th>question</th>\n",
       "      <th>rationale</th>\n",
       "      <th>answer</th>\n",
       "    </tr>\n",
       "  </thead>\n",
       "  <tbody>\n",
       "    <tr>\n",
       "      <th>0</th>\n",
       "      <td>Two friends plan to walk along a 43-km trail, starting at opposite ends of the trail at the same time. If Friend P's rate is 15% faster than Friend Q's, how many kilometers will Friend P have walked when they pass each other?</td>\n",
       "      <td>If Q complete x kilometers, then P completes 1.15x kilometers.\\nx + 1.15x = 43\\n2.15x=43\\nx = 43/2.15 = 20\\nThen P will have have walked 1.15*20=23 km.\\nThe answer is E.</td>\n",
       "      <td>If Q complete x kilometers, then P completes 1.15x kilometers.\\nx + 1.15x = 43\\n2.15x=43\\nx = 43/2.15 = 20\\nThen P will have have walked 1.15*20=23 km.</td>\n",
       "    </tr>\n",
       "    <tr>\n",
       "      <th>1</th>\n",
       "      <td>In the coordinate plane, points (x, 1) and (5, y) are on line k. If line k passes through the origin and has slope 1/5, then what are the values of x and y respectively?</td>\n",
       "      <td>Line k passes through the origin and has slope 1/5 means that its equation is y=1/5*x.\\nThus: (x, 1)=(5, 1) and (5, y) = (5,1) --&gt;x=5 and y=1\\nAnswer: C</td>\n",
       "      <td>Line k passes through the origin and has slope 1/5 means that its equation is y=1/5*x.\\nThus: (x, 1)=(5, 1) and (5, y) = (5,1) --&gt;x=5 and y=1</td>\n",
       "    </tr>\n",
       "    <tr>\n",
       "      <th>2</th>\n",
       "      <td>For all numbers p and q, the operation @ is defined by p@q = p^2 - pq. If xy ≠ 0, then which of the following can be equal to zero?\\nI. x@y\\nII. (xy)@y\\nIII. x@(x + y)</td>\n",
       "      <td>p@q = p^2 - pq=p(p-q).... so p@q will be zero if p=q or p=0.. but a cannot be equal to 0.. as per Q, x and y can take any int value except 0...\\nnow lets look at the choices..\\nwhen x=y, it will be 0... so ok...\\nwhen we put xy=y, it is possible when x=1 and y any integer... so ok again\\nwhen we put x=x+y.... only possibility when y=0 and it is given x and y cannot be 0....so not possible\\nonly l and ll possible ans B....</td>\n",
       "      <td>p@q = p^2 - pq=p(p-q).... so p@q will be zero if p=q or p=0.. but a cannot be equal to 0.. as per Q, x and y can take any int value except 0...\\nnow lets look at the choices..\\nwhen x=y, it will be 0... so ok...\\nwhen we put xy=y, it is possible when x=1 and y any integer... so ok again\\nwhen we put x=x+y.... only possibility when y=0 and it is given x and y cannot be 0....so not possible</td>\n",
       "    </tr>\n",
       "    <tr>\n",
       "      <th>3</th>\n",
       "      <td>Carl is facing very difficult financial times and can only pay the interest on a $10,000 loan he has taken. The bank charges him a quarterly compound rate of 4%. What is the approximate interest he pays annually?</td>\n",
       "      <td>Usually, you are given the annual rate of interest and it is mentioned that it is annual rate.\\nThe bank charges him a quarterly compounded ANNUAL rate of 16%.\\nHere you find per quarter rate as (16/4)% = 4%\\nI have actually never seen a question with quarter rate given but since this question did not mentionannual rate of interestand since the options did not make sense with 4% annual rate of interest, it is apparent that the intent was a 4% quarterly rate. So the bank charges 4% every quarter and compounds it in the next quarter. Had it been a simple quarterly rate, we would have just found 4 * 4% of 10,000 = $1600 as our answer.\\nBut since, the interest is compounded, it will be a bit more than $1600. Option (A) looks correct.</td>\n",
       "      <td>Usually, you are given the annual rate of interest and it is mentioned that it is annual rate.\\nThe bank charges him a quarterly compounded ANNUAL rate of 16%.\\nHere you find per quarter rate as (16/4)% = 4%\\nI have actually never seen a question with quarter rate given but since this question did not mentionannual rate of interestand since the options did not make sense with 4% annual rate of interest, it is apparent that the intent was a 4% quarterly rate. So the bank charges 4% every quarter and compounds it in the next quarter. Had it been a simple quarterly rate, we would have just found 4 * 4% of 10,000 = $1600 as our answer.</td>\n",
       "    </tr>\n",
       "    <tr>\n",
       "      <th>4</th>\n",
       "      <td>The speed at which a man can row a boat in still water is 25 kmph. If he rows downstream, where the speed of current is 11 kmph, what time will he take to cover 80 metres?</td>\n",
       "      <td>Speed of the boat downstream = 25 +11\\n= 36 kmph\\n= 36 * 5/18 = 10 m/s\\nHence time taken to cover 80 m = 80/10\\n= 8 seconds.\\nAnswer:E</td>\n",
       "      <td>Speed of the boat downstream = 25 +11\\n= 36 kmph\\n= 36 * 5/18 = 10 m/s\\nHence time taken to cover 80 m = 80/10\\n= 8 seconds.</td>\n",
       "    </tr>\n",
       "  </tbody>\n",
       "</table>\n",
       "</div>"
      ],
      "text/plain": [
       "                                                                                                                                                                                                                            question  \\\n",
       "0  Two friends plan to walk along a 43-km trail, starting at opposite ends of the trail at the same time. If Friend P's rate is 15% faster than Friend Q's, how many kilometers will Friend P have walked when they pass each other?   \n",
       "1                                                          In the coordinate plane, points (x, 1) and (5, y) are on line k. If line k passes through the origin and has slope 1/5, then what are the values of x and y respectively?   \n",
       "2                                                            For all numbers p and q, the operation @ is defined by p@q = p^2 - pq. If xy ≠ 0, then which of the following can be equal to zero?\\nI. x@y\\nII. (xy)@y\\nIII. x@(x + y)   \n",
       "3               Carl is facing very difficult financial times and can only pay the interest on a $10,000 loan he has taken. The bank charges him a quarterly compound rate of 4%. What is the approximate interest he pays annually?   \n",
       "4                                                        The speed at which a man can row a boat in still water is 25 kmph. If he rows downstream, where the speed of current is 11 kmph, what time will he take to cover 80 metres?   \n",
       "\n",
       "                                                                                                                                                                                                                                                                                                                                                                                                                                                                                                                                                                                                                                                                                                                                                             rationale  \\\n",
       "0                                                                                                                                                                                                                                                                                                                                                                                                                                                                                                                                                                                            If Q complete x kilometers, then P completes 1.15x kilometers.\\nx + 1.15x = 43\\n2.15x=43\\nx = 43/2.15 = 20\\nThen P will have have walked 1.15*20=23 km.\\nThe answer is E.   \n",
       "1                                                                                                                                                                                                                                                                                                                                                                                                                                                                                                                                                                                                             Line k passes through the origin and has slope 1/5 means that its equation is y=1/5*x.\\nThus: (x, 1)=(5, 1) and (5, y) = (5,1) -->x=5 and y=1\\nAnswer: C   \n",
       "2                                                                                                                                                                                                                                                                                                                            p@q = p^2 - pq=p(p-q).... so p@q will be zero if p=q or p=0.. but a cannot be equal to 0.. as per Q, x and y can take any int value except 0...\\nnow lets look at the choices..\\nwhen x=y, it will be 0... so ok...\\nwhen we put xy=y, it is possible when x=1 and y any integer... so ok again\\nwhen we put x=x+y.... only possibility when y=0 and it is given x and y cannot be 0....so not possible\\nonly l and ll possible ans B....   \n",
       "3  Usually, you are given the annual rate of interest and it is mentioned that it is annual rate.\\nThe bank charges him a quarterly compounded ANNUAL rate of 16%.\\nHere you find per quarter rate as (16/4)% = 4%\\nI have actually never seen a question with quarter rate given but since this question did not mentionannual rate of interestand since the options did not make sense with 4% annual rate of interest, it is apparent that the intent was a 4% quarterly rate. So the bank charges 4% every quarter and compounds it in the next quarter. Had it been a simple quarterly rate, we would have just found 4 * 4% of 10,000 = $1600 as our answer.\\nBut since, the interest is compounded, it will be a bit more than $1600. Option (A) looks correct.   \n",
       "4                                                                                                                                                                                                                                                                                                                                                                                                                                                                                                                                                                                                                               Speed of the boat downstream = 25 +11\\n= 36 kmph\\n= 36 * 5/18 = 10 m/s\\nHence time taken to cover 80 m = 80/10\\n= 8 seconds.\\nAnswer:E   \n",
       "\n",
       "                                                                                                                                                                                                                                                                                                                                                                                                                                                                                                                                                                                                                                                            answer  \n",
       "0                                                                                                                                                                                                                                                                                                                                                                                                                                                                                                          If Q complete x kilometers, then P completes 1.15x kilometers.\\nx + 1.15x = 43\\n2.15x=43\\nx = 43/2.15 = 20\\nThen P will have have walked 1.15*20=23 km.  \n",
       "1                                                                                                                                                                                                                                                                                                                                                                                                                                                                                                                    Line k passes through the origin and has slope 1/5 means that its equation is y=1/5*x.\\nThus: (x, 1)=(5, 1) and (5, y) = (5,1) -->x=5 and y=1  \n",
       "2                                                                                                                                                                                                                                                          p@q = p^2 - pq=p(p-q).... so p@q will be zero if p=q or p=0.. but a cannot be equal to 0.. as per Q, x and y can take any int value except 0...\\nnow lets look at the choices..\\nwhen x=y, it will be 0... so ok...\\nwhen we put xy=y, it is possible when x=1 and y any integer... so ok again\\nwhen we put x=x+y.... only possibility when y=0 and it is given x and y cannot be 0....so not possible  \n",
       "3  Usually, you are given the annual rate of interest and it is mentioned that it is annual rate.\\nThe bank charges him a quarterly compounded ANNUAL rate of 16%.\\nHere you find per quarter rate as (16/4)% = 4%\\nI have actually never seen a question with quarter rate given but since this question did not mentionannual rate of interestand since the options did not make sense with 4% annual rate of interest, it is apparent that the intent was a 4% quarterly rate. So the bank charges 4% every quarter and compounds it in the next quarter. Had it been a simple quarterly rate, we would have just found 4 * 4% of 10,000 = $1600 as our answer.  \n",
       "4                                                                                                                                                                                                                                                                                                                                                                                                                                                                                                                                     Speed of the boat downstream = 25 +11\\n= 36 kmph\\n= 36 * 5/18 = 10 m/s\\nHence time taken to cover 80 m = 80/10\\n= 8 seconds.  "
      ]
     },
     "execution_count": 130,
     "metadata": {},
     "output_type": "execute_result"
    }
   ],
   "source": [
    "new_data.head()"
   ]
  },
  {
   "cell_type": "code",
   "execution_count": 131,
   "id": "1da26594-9279-43e2-aeca-2537f38b832c",
   "metadata": {},
   "outputs": [],
   "source": [
    "train_data = new_data[['question', 'answer']]"
   ]
  },
  {
   "cell_type": "code",
   "execution_count": 132,
   "id": "37faabc3-edee-4296-a97e-d7d8091a408d",
   "metadata": {},
   "outputs": [
    {
     "name": "stdout",
     "output_type": "stream",
     "text": [
      "15895726\n",
      "3174388\n",
      "154357\n"
     ]
    }
   ],
   "source": [
    "total_text_length = train_data['question'].str.len().sum()\n",
    "print(total_text_length)\n",
    "\n",
    "total_word_count = train_data['question'].str.split().str.len().sum()\n",
    "print(total_word_count)\n",
    "\n",
    "total_sentence_count = train_data['question'].str.count('\\.').sum()\n",
    "print(total_sentence_count)"
   ]
  },
  {
   "cell_type": "code",
   "execution_count": 133,
   "id": "0ac635f9-5648-4fb3-b956-37493bf08e3a",
   "metadata": {},
   "outputs": [
    {
     "name": "stdout",
     "output_type": "stream",
     "text": [
      "17881949\n",
      "3817659\n",
      "285478\n"
     ]
    }
   ],
   "source": [
    "total_text_length = train_data['answer'].str.len().sum()\n",
    "print(total_text_length)\n",
    "\n",
    "total_word_count = train_data['answer'].str.split().str.len().sum()\n",
    "print(total_word_count)\n",
    "\n",
    "total_sentence_count = train_data['answer'].str.count('\\.').sum()\n",
    "print(total_sentence_count)"
   ]
  },
  {
   "cell_type": "code",
   "execution_count": 134,
   "id": "985e2f22-3987-45bf-a75c-48e49a78563e",
   "metadata": {},
   "outputs": [
    {
     "name": "stdout",
     "output_type": "stream",
     "text": [
      "604302\n",
      "339658\n"
     ]
    }
   ],
   "source": [
    "import re\n",
    "\n",
    "# Count the number of digits in the column\n",
    "digit_count = train_data['question'].str.count(r'\\d').sum()\n",
    "print(digit_count)\n",
    "\n",
    "# Count the number of numbers in the column\n",
    "number_count = train_data['question'].str.count(r'\\d+').sum()\n",
    "print(number_count)"
   ]
  },
  {
   "cell_type": "code",
   "execution_count": 135,
   "id": "6b9d89b9-85c5-4671-89f3-b6dc4bc0b013",
   "metadata": {},
   "outputs": [
    {
     "name": "stdout",
     "output_type": "stream",
     "text": [
      "2325382\n",
      "1341868\n"
     ]
    }
   ],
   "source": [
    "# Count the number of digits in the column\n",
    "digit_count = train_data['answer'].str.count(r'\\d').sum()\n",
    "print(digit_count)\n",
    "\n",
    "# Count the number of numbers in the column\n",
    "number_count = train_data['answer'].str.count(r'\\d+').sum()\n",
    "print(number_count)"
   ]
  },
  {
   "cell_type": "code",
   "execution_count": 136,
   "id": "5b7cc812-a642-4f59-a8e7-88f65ee8b836",
   "metadata": {},
   "outputs": [],
   "source": [
    "def clean_text(text):\n",
    "    text = text.replace('\\n',' ')\n",
    "    text = text.replace('*', ' * ')\n",
    "    text = text.replace('/', ' / ')\n",
    "    text = text.replace('=', ' = ')\n",
    "    text = text.replace(',', ' , ')\n",
    "    text = text.replace('(', ' ( ')\n",
    "    text = text.replace(')', ' ) ')\n",
    "    return text\n",
    "\n",
    "\n",
    "def count_words_and_digits(df, column_name, new_column_name1, new_column_name2):\n",
    "    # Count the number of words in each element of the specified column\n",
    "    word_counts = df[column_name].apply(lambda x: len(str(x).split()))\n",
    "    df[column_name] = df[column_name].apply(clean_text)\n",
    "    digit_counts = df[column_name].apply(lambda x: sum(1 for token in str(x).split() if re.match(r'\\d+', token)))\n",
    "    \n",
    "    df[new_column_name1] = word_counts\n",
    "    df[new_column_name2] = digit_counts\n",
    "    \n",
    "    return df"
   ]
  },
  {
   "cell_type": "code",
   "execution_count": 137,
   "id": "fa458570-fac1-44bb-89a0-7aa59db350b5",
   "metadata": {},
   "outputs": [
    {
     "name": "stderr",
     "output_type": "stream",
     "text": [
      "/tmp/ipykernel_2008/3658390346.py:15: SettingWithCopyWarning: \n",
      "A value is trying to be set on a copy of a slice from a DataFrame.\n",
      "Try using .loc[row_indexer,col_indexer] = value instead\n",
      "\n",
      "See the caveats in the documentation: https://pandas.pydata.org/pandas-docs/stable/user_guide/indexing.html#returning-a-view-versus-a-copy\n",
      "  df[column_name] = df[column_name].apply(clean_text)\n"
     ]
    }
   ],
   "source": [
    "train_data = count_words_and_digits(train_data, \"question\", \"question_word_count\", \"question_number_count\")\n",
    "train_data = count_words_and_digits(train_data, \"answer\", \"answer_word_count\", \"answer_number_count\")"
   ]
  },
  {
   "cell_type": "code",
   "execution_count": 138,
   "id": "a491a835-d649-43ff-b860-08b83cb2272f",
   "metadata": {},
   "outputs": [
    {
     "data": {
      "text/html": [
       "<div>\n",
       "<style scoped>\n",
       "    .dataframe tbody tr th:only-of-type {\n",
       "        vertical-align: middle;\n",
       "    }\n",
       "\n",
       "    .dataframe tbody tr th {\n",
       "        vertical-align: top;\n",
       "    }\n",
       "\n",
       "    .dataframe thead th {\n",
       "        text-align: right;\n",
       "    }\n",
       "</style>\n",
       "<table border=\"1\" class=\"dataframe\">\n",
       "  <thead>\n",
       "    <tr style=\"text-align: right;\">\n",
       "      <th></th>\n",
       "      <th>question</th>\n",
       "      <th>answer</th>\n",
       "      <th>question_word_count</th>\n",
       "      <th>question_number_count</th>\n",
       "      <th>answer_word_count</th>\n",
       "      <th>answer_number_count</th>\n",
       "    </tr>\n",
       "  </thead>\n",
       "  <tbody>\n",
       "    <tr>\n",
       "      <th>0</th>\n",
       "      <td>Two friends plan to walk along a 43-km trail ,  starting at opposite ends of the trail at the same time. If Friend P's rate is 15% faster than Friend Q's ,  how many kilometers will Friend P have walked when they pass each other?</td>\n",
       "      <td>If Q complete x kilometers ,  then P completes 1.15x kilometers. x + 1.15x  =  43 2.15x = 43 x  =  43 / 2.15  =  20 Then P will have have walked 1.15 * 20 = 23 km.</td>\n",
       "      <td>43</td>\n",
       "      <td>2</td>\n",
       "      <td>29</td>\n",
       "      <td>11</td>\n",
       "    </tr>\n",
       "    <tr>\n",
       "      <th>1</th>\n",
       "      <td>In the coordinate plane ,  points  ( x ,  1 )  and  ( 5 ,  y )  are on line k. If line k passes through the origin and has slope 1 / 5 ,  then what are the values of x and y respectively?</td>\n",
       "      <td>Line k passes through the origin and has slope 1 / 5 means that its equation is y = 1 / 5 * x. Thus:  ( x ,  1 )  =  ( 5 ,  1 )  and  ( 5 ,  y )   =   ( 5 , 1 )  --&gt;x = 5 and y = 1</td>\n",
       "      <td>35</td>\n",
       "      <td>4</td>\n",
       "      <td>28</td>\n",
       "      <td>12</td>\n",
       "    </tr>\n",
       "    <tr>\n",
       "      <th>2</th>\n",
       "      <td>For all numbers p and q ,  the operation @ is defined by p@q  =  p^2 - pq. If xy ≠ 0 ,  then which of the following can be equal to zero? I. x@y II.  ( xy ) @y III. x@ ( x + y )</td>\n",
       "      <td>p@q  =  p^2 - pq = p ( p-q ) .... so p@q will be zero if p = q or p = 0.. but a cannot be equal to 0.. as per Q ,  x and y can take any int value except 0... now lets look at the choices.. when x = y ,  it will be 0... so ok... when we put xy = y ,  it is possible when x = 1 and y any integer... so ok again when we put x = x+y.... only possibility when y = 0 and it is given x and y cannot be 0....so not possible</td>\n",
       "      <td>39</td>\n",
       "      <td>1</td>\n",
       "      <td>84</td>\n",
       "      <td>7</td>\n",
       "    </tr>\n",
       "    <tr>\n",
       "      <th>3</th>\n",
       "      <td>Carl is facing very difficult financial times and can only pay the interest on a $10 , 000 loan he has taken. The bank charges him a quarterly compound rate of 4%. What is the approximate interest he pays annually?</td>\n",
       "      <td>Usually ,  you are given the annual rate of interest and it is mentioned that it is annual rate. The bank charges him a quarterly compounded ANNUAL rate of 16%. Here you find per quarter rate as  ( 16 / 4 ) %  =  4% I have actually never seen a question with quarter rate given but since this question did not mentionannual rate of interestand since the options did not make sense with 4% annual rate of interest ,  it is apparent that the intent was a 4% quarterly rate. So the bank charges 4% every quarter and compounds it in the next quarter. Had it been a simple quarterly rate ,  we would have just found 4  *  4% of 10 , 000  =  $1600 as our answer.</td>\n",
       "      <td>38</td>\n",
       "      <td>2</td>\n",
       "      <td>120</td>\n",
       "      <td>11</td>\n",
       "    </tr>\n",
       "    <tr>\n",
       "      <th>4</th>\n",
       "      <td>The speed at which a man can row a boat in still water is 25 kmph. If he rows downstream ,  where the speed of current is 11 kmph ,  what time will he take to cover 80 metres?</td>\n",
       "      <td>Speed of the boat downstream  =  25 +11  =  36 kmph  =  36  *  5 / 18  =  10 m / s Hence time taken to cover 80 m  =  80 / 10  =  8 seconds.</td>\n",
       "      <td>37</td>\n",
       "      <td>3</td>\n",
       "      <td>30</td>\n",
       "      <td>10</td>\n",
       "    </tr>\n",
       "  </tbody>\n",
       "</table>\n",
       "</div>"
      ],
      "text/plain": [
       "                                                                                                                                                                                                                                question  \\\n",
       "0  Two friends plan to walk along a 43-km trail ,  starting at opposite ends of the trail at the same time. If Friend P's rate is 15% faster than Friend Q's ,  how many kilometers will Friend P have walked when they pass each other?   \n",
       "1                                            In the coordinate plane ,  points  ( x ,  1 )  and  ( 5 ,  y )  are on line k. If line k passes through the origin and has slope 1 / 5 ,  then what are the values of x and y respectively?   \n",
       "2                                                     For all numbers p and q ,  the operation @ is defined by p@q  =  p^2 - pq. If xy ≠ 0 ,  then which of the following can be equal to zero? I. x@y II.  ( xy ) @y III. x@ ( x + y )    \n",
       "3                 Carl is facing very difficult financial times and can only pay the interest on a $10 , 000 loan he has taken. The bank charges him a quarterly compound rate of 4%. What is the approximate interest he pays annually?   \n",
       "4                                                        The speed at which a man can row a boat in still water is 25 kmph. If he rows downstream ,  where the speed of current is 11 kmph ,  what time will he take to cover 80 metres?   \n",
       "\n",
       "                                                                                                                                                                                                                                                                                                                                                                                                                                                                                                                                                                                                                                                                             answer  \\\n",
       "0                                                                                                                                                                                                                                                                                                                                                                                                                                                                                                               If Q complete x kilometers ,  then P completes 1.15x kilometers. x + 1.15x  =  43 2.15x = 43 x  =  43 / 2.15  =  20 Then P will have have walked 1.15 * 20 = 23 km.   \n",
       "1                                                                                                                                                                                                                                                                                                                                                                                                                                                                                              Line k passes through the origin and has slope 1 / 5 means that its equation is y = 1 / 5 * x. Thus:  ( x ,  1 )  =  ( 5 ,  1 )  and  ( 5 ,  y )   =   ( 5 , 1 )  -->x = 5 and y = 1   \n",
       "2                                                                                                                                                                                                                                                   p@q  =  p^2 - pq = p ( p-q ) .... so p@q will be zero if p = q or p = 0.. but a cannot be equal to 0.. as per Q ,  x and y can take any int value except 0... now lets look at the choices.. when x = y ,  it will be 0... so ok... when we put xy = y ,  it is possible when x = 1 and y any integer... so ok again when we put x = x+y.... only possibility when y = 0 and it is given x and y cannot be 0....so not possible   \n",
       "3  Usually ,  you are given the annual rate of interest and it is mentioned that it is annual rate. The bank charges him a quarterly compounded ANNUAL rate of 16%. Here you find per quarter rate as  ( 16 / 4 ) %  =  4% I have actually never seen a question with quarter rate given but since this question did not mentionannual rate of interestand since the options did not make sense with 4% annual rate of interest ,  it is apparent that the intent was a 4% quarterly rate. So the bank charges 4% every quarter and compounds it in the next quarter. Had it been a simple quarterly rate ,  we would have just found 4  *  4% of 10 , 000  =  $1600 as our answer.   \n",
       "4                                                                                                                                                                                                                                                                                                                                                                                                                                                                                                                                      Speed of the boat downstream  =  25 +11  =  36 kmph  =  36  *  5 / 18  =  10 m / s Hence time taken to cover 80 m  =  80 / 10  =  8 seconds.   \n",
       "\n",
       "   question_word_count  question_number_count  answer_word_count  \\\n",
       "0                   43                      2                 29   \n",
       "1                   35                      4                 28   \n",
       "2                   39                      1                 84   \n",
       "3                   38                      2                120   \n",
       "4                   37                      3                 30   \n",
       "\n",
       "   answer_number_count  \n",
       "0                   11  \n",
       "1                   12  \n",
       "2                    7  \n",
       "3                   11  \n",
       "4                   10  "
      ]
     },
     "execution_count": 138,
     "metadata": {},
     "output_type": "execute_result"
    }
   ],
   "source": [
    "train_data.head()"
   ]
  },
  {
   "cell_type": "code",
   "execution_count": 139,
   "id": "dad61057-9ef2-4a49-afcf-03508bf03a37",
   "metadata": {},
   "outputs": [
    {
     "data": {
      "image/png": "[encoded data removed]",
      "text/plain": [
       "<Figure size 432x288 with 1 Axes>"
      ]
     },
     "metadata": {
      "needs_background": "light"
     },
     "output_type": "display_data"
    }
   ],
   "source": [
    "# plot a histogram of the string lengths\n",
    "plt.hist(train_data[\"question_word_count\"])\n",
    "plt.xlabel('String length')\n",
    "plt.ylabel('Frequency')\n",
    "plt.show()"
   ]
  },
  {
   "cell_type": "code",
   "execution_count": 140,
   "id": "8ecb38a4-ed9f-483a-93ab-7ae376ad5192",
   "metadata": {},
   "outputs": [
    {
     "data": {
      "image/png": "[encoded data removed]",
      "text/plain": [
       "<Figure size 432x288 with 1 Axes>"
      ]
     },
     "metadata": {
      "needs_background": "light"
     },
     "output_type": "display_data"
    }
   ],
   "source": [
    "# plot a histogram of the string lengths\n",
    "plt.hist(train_data[\"answer_word_count\"])\n",
    "plt.xlabel('String length')\n",
    "plt.ylabel('Frequency')\n",
    "plt.show()"
   ]
  },
  {
   "cell_type": "code",
   "execution_count": 141,
   "id": "0cd6cdfc-8356-4e62-984e-56c6a6b6c8a8",
   "metadata": {},
   "outputs": [
    {
     "data": {
      "image/png": "[encoded data removed]",
      "text/plain": [
       "<Figure size 432x288 with 1 Axes>"
      ]
     },
     "metadata": {
      "needs_background": "light"
     },
     "output_type": "display_data"
    }
   ],
   "source": [
    "# plot a histogram of the string lengths\n",
    "plt.hist(train_data[\"answer_number_count\"])\n",
    "plt.xlabel('String length')\n",
    "plt.ylabel('Frequency')\n",
    "plt.show()"
   ]
  },
  {
   "cell_type": "code",
   "execution_count": 142,
   "id": "6c3bd5eb-19e4-4991-8e4a-ae46833a8800",
   "metadata": {},
   "outputs": [
    {
     "data": {
      "text/plain": [
       "76322"
      ]
     },
     "execution_count": 142,
     "metadata": {},
     "output_type": "execute_result"
    }
   ],
   "source": [
    "len(train_data[train_data[\"answer_number_count\"] >= 6])"
   ]
  },
  {
   "cell_type": "code",
   "execution_count": 143,
   "id": "a6a5531c-0088-4cb5-8655-195967f956ba",
   "metadata": {},
   "outputs": [],
   "source": [
    "### Since we will be masking the answer numbers hence we need a minimum count of numbers in the answers\n",
    "train_data = train_data[train_data[\"answer_number_count\"] >= 6]"
   ]
  },
  {
   "cell_type": "code",
   "execution_count": 144,
   "id": "febd7b5e-3a1a-4d6e-8f45-6c83c0a6c39f",
   "metadata": {},
   "outputs": [
    {
     "data": {
      "text/plain": [
       "Index(['question', 'answer', 'question_word_count', 'question_number_count',\n",
       "       'answer_word_count', 'answer_number_count'],\n",
       "      dtype='object')"
      ]
     },
     "execution_count": 144,
     "metadata": {},
     "output_type": "execute_result"
    }
   ],
   "source": [
    "train_data.columns"
   ]
  },
  {
   "cell_type": "code",
   "execution_count": 145,
   "id": "c0969f95-f2e7-4e86-9917-d16a7af0d5c8",
   "metadata": {},
   "outputs": [],
   "source": [
    "# Assuming you have two columns 'column1' and 'column2' in your DataFrame\n",
    "train_data['text'] = train_data['question'] + ' [Answer] ' + train_data['answer']"
   ]
  },
  {
   "cell_type": "code",
   "execution_count": 146,
   "id": "9831168e-a3fe-4934-ba30-4df86a4d2d73",
   "metadata": {},
   "outputs": [],
   "source": [
    "train_data['text_length']  = train_data['text'] .apply(lambda x: len(str(x).split()))"
   ]
  },
  {
   "cell_type": "code",
   "execution_count": 147,
   "id": "14bf744c-078b-42a0-86b3-dcc55b7e42d0",
   "metadata": {},
   "outputs": [
    {
     "data": {
      "image/png": "[encoded data removed]",
      "text/plain": [
       "<Figure size 432x288 with 1 Axes>"
      ]
     },
     "metadata": {
      "needs_background": "light"
     },
     "output_type": "display_data"
    }
   ],
   "source": [
    "# plot a histogram of the string lengths\n",
    "plt.hist(train_data['text_length'])\n",
    "plt.xlabel('String length')\n",
    "plt.ylabel('Frequency')\n",
    "plt.show()"
   ]
  },
  {
   "cell_type": "code",
   "execution_count": 148,
   "id": "8053f76a-1f60-4c83-83e1-644e2d00680c",
   "metadata": {},
   "outputs": [
    {
     "data": {
      "text/plain": [
       "3427"
      ]
     },
     "execution_count": 148,
     "metadata": {},
     "output_type": "execute_result"
    }
   ],
   "source": [
    "len(train_data[train_data[\"text_length\"] < 40])"
   ]
  },
  {
   "cell_type": "code",
   "execution_count": 149,
   "id": "b0bf260f-0ce4-4a9e-b0b6-3889698b4a42",
   "metadata": {},
   "outputs": [
    {
     "data": {
      "text/plain": [
       "55"
      ]
     },
     "execution_count": 149,
     "metadata": {},
     "output_type": "execute_result"
    }
   ],
   "source": [
    "len(train_data[train_data[\"text_length\"] > 470])"
   ]
  },
  {
   "cell_type": "code",
   "execution_count": 150,
   "id": "b3ac21a2-5f08-464c-baf3-588bc534b5e0",
   "metadata": {},
   "outputs": [],
   "source": [
    "#train_data = train_data[train_data[\"text_length\"] >= 40]"
   ]
  },
  {
   "cell_type": "code",
   "execution_count": 151,
   "id": "78c57f46-bf90-4f18-b3d7-1cfbba2cd685",
   "metadata": {},
   "outputs": [],
   "source": [
    "train_data = train_data[train_data[\"text_length\"] < 470]"
   ]
  },
  {
   "cell_type": "code",
   "execution_count": 152,
   "id": "dd60ebbd-4087-4eda-8d31-870050f9a3c8",
   "metadata": {},
   "outputs": [
    {
     "data": {
      "text/plain": [
       "(76267, 8)"
      ]
     },
     "execution_count": 152,
     "metadata": {},
     "output_type": "execute_result"
    }
   ],
   "source": [
    "train_data.shape"
   ]
  },
  {
   "cell_type": "code",
   "execution_count": 153,
   "id": "f97a804a-eaaa-4e7d-b19e-d041565ea95e",
   "metadata": {},
   "outputs": [],
   "source": [
    "train_data = train_data[['text']]"
   ]
  },
  {
   "cell_type": "code",
   "execution_count": 154,
   "id": "8e6410c9-ab4f-4b31-9eed-4580163ea81f",
   "metadata": {},
   "outputs": [],
   "source": [
    "### saving the train data as csv for training\n",
    "train_data.to_csv('train_data.csv', index = False)\n",
    "\n",
    "### saving the train data as csv for training\n",
    "train_data.to_parquet('train_data.parquet', index = False)"
   ]
  },
  {
   "cell_type": "code",
   "execution_count": 129,
   "id": "92debbc7-a7dc-4b9a-aff4-e63181f61577",
   "metadata": {},
   "outputs": [
    {
     "name": "stderr",
     "output_type": "stream",
     "text": [
      "/tmp/ipykernel_141/255053195.py:9: SettingWithCopyWarning: \n",
      "A value is trying to be set on a copy of a slice from a DataFrame.\n",
      "Try using .loc[row_indexer,col_indexer] = value instead\n",
      "\n",
      "See the caveats in the documentation: https://pandas.pydata.org/pandas-docs/stable/user_guide/indexing.html#returning-a-view-versus-a-copy\n",
      "  new_data[\"answer\"] = new_data[\"rationale\"].apply(clip_sentence)\n",
      "/tmp/ipykernel_141/255053195.py:27: SettingWithCopyWarning: \n",
      "A value is trying to be set on a copy of a slice from a DataFrame.\n",
      "Try using .loc[row_indexer,col_indexer] = value instead\n",
      "\n",
      "See the caveats in the documentation: https://pandas.pydata.org/pandas-docs/stable/user_guide/indexing.html#returning-a-view-versus-a-copy\n",
      "  df[column_name] = df[column_name].apply(clean_text)\n",
      "/tmp/ipykernel_141/255053195.py:43: SettingWithCopyWarning: \n",
      "A value is trying to be set on a copy of a slice from a DataFrame.\n",
      "Try using .loc[row_indexer,col_indexer] = value instead\n",
      "\n",
      "See the caveats in the documentation: https://pandas.pydata.org/pandas-docs/stable/user_guide/indexing.html#returning-a-view-versus-a-copy\n",
      "  val_data['text'] = val_data['question'] + ' [Answer] ' + val_data['answer']\n"
     ]
    }
   ],
   "source": [
    "### Doing the same preprocessing to make the validation dataset\n",
    "df = pd.read_json(\"dev.json\", lines=True)\n",
    "new_data = df[['question', 'rationale']]\n",
    "# Define a function to clip the last occurrence of \\n in a sentence\n",
    "def clip_sentence(sentence):\n",
    "    return sentence.rsplit('\\n', 1)[0]\n",
    "\n",
    "# Apply the clipping operation to the \"sentence\" column\n",
    "new_data[\"answer\"] = new_data[\"rationale\"].apply(clip_sentence)\n",
    "\n",
    "val_data = new_data[['question', 'answer']]\n",
    "\n",
    "def clean_text(text):\n",
    "    text = text.replace('\\n',' ')\n",
    "    text = text.replace('*', ' * ')\n",
    "    text = text.replace('/', ' / ')\n",
    "    text = text.replace('=', ' = ')\n",
    "    text = text.replace(',', ' , ')\n",
    "    text = text.replace('(', ' ( ')\n",
    "    text = text.replace(')', ' ) ')\n",
    "    return text\n",
    "\n",
    "\n",
    "def count_words_and_digits(df, column_name, new_column_name1, new_column_name2):\n",
    "    # Count the number of words in each element of the specified column\n",
    "    word_counts = df[column_name].apply(lambda x: len(str(x).split()))\n",
    "    df[column_name] = df[column_name].apply(clean_text)\n",
    "    digit_counts = df[column_name].apply(lambda x: sum(1 for token in str(x).split() if re.match(r'\\d+', token)))\n",
    "    \n",
    "    df[new_column_name1] = word_counts\n",
    "    df[new_column_name2] = digit_counts\n",
    "    \n",
    "    return df\n",
    "\t\n",
    "\t\n",
    "val_data = count_words_and_digits(val_data, \"question\", \"question_word_count\", \"question_number_count\")\n",
    "val_data = count_words_and_digits(val_data, \"answer\", \"answer_word_count\", \"answer_number_count\")\n",
    "\n",
    "### Since we will be masking the answer numbers hence we need a minimum count of numbers in the answers\n",
    "val_data = val_data[val_data[\"answer_number_count\"] >= 6]\n",
    "\n",
    "# Assuming you have two columns 'column1' and 'column2' in your DataFrame\n",
    "val_data['text'] = val_data['question'] + ' [Answer] ' + val_data['answer']\n",
    "\n",
    "val_data = val_data[['text']]\n",
    "\n",
    "### saving the train data as csv for training\n",
    "val_data.to_csv('val_data.csv', index = False)"
   ]
  },
  {
   "cell_type": "code",
   "execution_count": 101,
   "id": "d16d602e-4358-4d33-88d1-383466b9bf79",
   "metadata": {},
   "outputs": [],
   "source": [
    "### Testing the masking PATTERN"
   ]
  },
  {
   "cell_type": "code",
   "execution_count": 102,
   "id": "d62d261c-67a6-4ca1-8e25-0e47040078b4",
   "metadata": {},
   "outputs": [
    {
     "name": "stdout",
     "output_type": "stream",
     "text": [
      "Original Text: This is an example sentence to test masking.\n",
      "Cleaned Text: This is an example sentence to test masking.\n",
      "Masked Text: This <mask_1> sentence to test masking.\n",
      "Unmasked Text: <mask_1> is an example <mask_2>\n"
     ]
    }
   ],
   "source": [
    "import math\n",
    "import numpy as np\n",
    "import random\n",
    "\n",
    "def clean_text(text):\n",
    "    text = text.replace('Example of text:', '')\n",
    "    text = text.replace('Example of Summary:', '')\n",
    "    text = text.replace('\\n','')\n",
    "    text = text.replace('``', '')\n",
    "    text = text.replace('\"', '')\n",
    "    return text\n",
    "\n",
    "def span_corruption_mask(text, noise_span_length=3, noise_density=.15):\n",
    "    max_index = len(text.split())\n",
    "    mask = max_index * [0]\n",
    "    span_num = math.ceil(( max_index * noise_density ) / 3 )\n",
    "    exclude=[max_index-2, max_index-1]\n",
    "    for i in range(span_num):\n",
    "        while True:\n",
    "            rand_num = np.random.randint(low=0, high=max_index)\n",
    "            if rand_num not in exclude:\n",
    "                span = [rand_num, rand_num+1, rand_num+2]\n",
    "                for s in span:\n",
    "                    mask[s] = 1\n",
    "                    exclude.append(s)\n",
    "                if rand_num==1:\n",
    "                    exclude.append(rand_num-1)\n",
    "                elif rand_num==2:\n",
    "                    exclude.append(rand_num-1)\n",
    "                    exclude.append(rand_num-2)\n",
    "                elif rand_num>2:\n",
    "                    exclude.append(rand_num-1)\n",
    "                    exclude.append(rand_num-2)\n",
    "                    exclude.append(rand_num-3)\n",
    "                if not rand_num==max_index-3:\n",
    "                    exclude.append(span[-1]+1)\n",
    "                break\n",
    "            else:\n",
    "                continue\n",
    "    return mask\n",
    "\n",
    "def noise_span_to_unique_sentinel(text, mask, sentinels):\n",
    "    tokens = text.split()\n",
    "    text_ = []\n",
    "    one_count=0\n",
    "    sentinel_cnt=0\n",
    "    for i in range(len(tokens)):\n",
    "        if mask[i] == 1:\n",
    "            one_count+=1\n",
    "            if one_count==1:\n",
    "                text_.append(sentinels[sentinel_cnt])\n",
    "                sentinel_cnt+=1\n",
    "            else:\n",
    "                if one_count==3:\n",
    "                    one_count=0\n",
    "        else:\n",
    "            text_.append(tokens[i])\n",
    "    text_ = ' '.join(text_)\n",
    "    return text_\n",
    "\n",
    "def nonnoise_span_to_unique_sentinel(text, mask, sentinels):\n",
    "    tokens = text.split()\n",
    "    text_ = []\n",
    "    zero_first=True\n",
    "    sentinel_cnt=0\n",
    "    for i in range(len(tokens)):\n",
    "        if mask[i] == 0:\n",
    "            if zero_first:\n",
    "                text_.append(sentinels[sentinel_cnt])\n",
    "                zero_first=False\n",
    "                sentinel_cnt+=1\n",
    "        else:\n",
    "            zero_first=True\n",
    "            text_.append(tokens[i])\n",
    "    text_ = ' '.join(text_)\n",
    "    return text_\n",
    "\n",
    "text = \"This is an example sentence to test masking.\"\n",
    "cleaned_text = clean_text(text)\n",
    "mask = span_corruption_mask(cleaned_text)\n",
    "sentinels = [\"<mask_1>\", \"<mask_2>\", \"<mask_3>\"]\n",
    "masked_text = noise_span_to_unique_sentinel(cleaned_text, mask, sentinels)\n",
    "unmasked_text = nonnoise_span_to_unique_sentinel(cleaned_text, mask, sentinels)\n",
    "\n",
    "print(\"Original Text:\", text)\n",
    "print(\"Cleaned Text:\", cleaned_text)\n",
    "print(\"Masked Text:\", masked_text)\n",
    "print(\"Unmasked Text:\", unmasked_text)\n"
   ]
  },
  {
   "cell_type": "code",
   "execution_count": 155,
   "id": "ef8e2e68-0877-4868-9083-7987f677c65f",
   "metadata": {},
   "outputs": [
    {
     "name": "stdout",
     "output_type": "stream",
     "text": [
      "Input Text: Two friends plan to walk along a 43-km trail, starting at opposite ends of the trail at the same time. If Friend P's rate is 15% faster than Friend Q's, how many kilometers will Friend P have walked when they pass each other? [Answer] If Q completes 10 kilometers, then P completes <extra_id_0> <extra_id_1> <extra_id_2> = <extra_id_3> 10 = 43 10 = 43 / <extra_id_4> <extra_id_5> will have walked 1.15 * 20 = 23 km.\n",
      "Target Text: <extra_id_0> 1.15 * 10 kilometers. 10 + 1.15 * 10 <extra_id_1> 43 2.15 * <extra_id_2> 2.15 = 20 Then P <extra_id_3>\n"
     ]
    }
   ],
   "source": [
    "### Numeric masking strategy\n",
    "\n",
    "import random\n",
    "import re\n",
    "\n",
    "def clean_text(text):\n",
    "    text = text.replace('Example of text:', '')\n",
    "    text = text.replace('Example of Summary:', '')\n",
    "    text = text.replace('\\n', ' ')\n",
    "    text = text.replace('``', '')\n",
    "    text = text.replace('\"', '')\n",
    "    return text\n",
    "\n",
    "def remove_values_less_than(numbers, threshold):\n",
    "    return [num for num in numbers if num >= threshold]\n",
    "\n",
    "def select_random_percentage(lst, percentage):\n",
    "    num_values = int(len(lst) * (percentage / 100))\n",
    "    random_values = random.sample(lst, num_values)\n",
    "    sorted_values = sorted(random_values)\n",
    "    return sorted_values\n",
    "\n",
    "def mask_numeric_spans(text, mask_ratio, noise_span_length):\n",
    "    tokens = text.split()\n",
    "    mask_started = False\n",
    "    masked_tokens = []\n",
    "    mask = [0] * len(tokens)\n",
    "    \n",
    "    for i, token in enumerate(tokens):\n",
    "        if token == \"[Answer]\":\n",
    "            start_index = i+1\n",
    "            \n",
    "    digit_indices = [j for j, token in enumerate(tokens) if re.match(r'\\d+', token)]    \n",
    "    mask_digit_index = remove_values_less_than(digit_indices, start_index)\n",
    "    mask_digit_index = mask_digit_index[:-2]\n",
    "    random_mask_index = select_random_percentage(mask_digit_index, mask_ratio)\n",
    "    \n",
    "    for i in random_mask_index:\n",
    "        for j in range(noise_span_length):\n",
    "            if j < noise_span_length:\n",
    "                mask[i+j] = 1\n",
    "            else:\n",
    "                mask[i-1] = 1\n",
    "\n",
    "    return mask\n",
    "\n",
    "\n",
    "def noise_span_to_unique_sentinel(text, mask, sentinels):\n",
    "    tokens = text.split()\n",
    "    text_ = []\n",
    "    one_count=0\n",
    "    sentinel_cnt=0\n",
    "    for i in range(len(tokens)):\n",
    "        if mask[i] == 1:\n",
    "            one_count+=1\n",
    "            if one_count==1:\n",
    "                text_.append(sentinels[sentinel_cnt])\n",
    "                sentinel_cnt+=1\n",
    "            else:\n",
    "                if one_count==3:\n",
    "                    one_count=0\n",
    "        else:\n",
    "            text_.append(tokens[i])\n",
    "    text_ = ' '.join(text_)\n",
    "    return text_\n",
    "\n",
    "def nonnoise_span_to_unique_sentinel(text, mask, sentinels):\n",
    "    tokens = text.split()\n",
    "    text_ = []\n",
    "    zero_first=True\n",
    "    sentinel_cnt=0\n",
    "    for i in range(len(tokens)):\n",
    "        if mask[i] == 0:\n",
    "            if zero_first:\n",
    "                text_.append(sentinels[sentinel_cnt])\n",
    "                zero_first=False\n",
    "                sentinel_cnt+=1\n",
    "        else:\n",
    "            zero_first=True\n",
    "            text_.append(tokens[i])\n",
    "    text_ = ' '.join(text_)\n",
    "    return text_\n",
    "\n",
    "text = \"Two friends plan to walk along a 43-km trail, starting at opposite ends of the trail at the same time. If Friend P's rate is 15% faster than Friend Q's, how many kilometers will Friend P have walked when they pass each other? [Answer] If Q completes 10 kilometers, then P completes 1.15 * 10 kilometers.\\n10 + 1.15 * 10 = 43\\n2.15 * 10 = 43\\n10 = 43 / 2.15 = 20\\nThen P will have walked 1.15 * 20 = 23 km.\"\n",
    "\n",
    "cleaned_text = clean_text(text)\n",
    "mask = mask_numeric_spans(cleaned_text, mask_ratio = 50, noise_span_length=3)\n",
    "sentinels=[]\n",
    "for i in range(100):\n",
    "    sentinels.append(f'<extra_id_{i}>')\n",
    "input_ = noise_span_to_unique_sentinel(text,mask,sentinels)\n",
    "target_ = nonnoise_span_to_unique_sentinel(text,mask,sentinels)\n",
    "\n",
    "print(\"Input Text:\", input_)\n",
    "print(\"Target Text:\",target_)\n",
    "\n",
    "#masked_text, mask = mask_numeric_spans(cleaned_text, mask_ratio=50)\n",
    "\n",
    "#print(\"Original Text:\", text)\n",
    "#print(\"Cleaned Text:\", cleaned_text)\n",
    "#print(\"Masked Text:\", masked_text)\n",
    "#print(\"Mask:\", mask)\n"
   ]
  },
  {
   "cell_type": "code",
   "execution_count": 159,
   "id": "da5cdaac-e8c0-4d6e-893a-0a37a57839da",
   "metadata": {},
   "outputs": [
    {
     "data": {
      "text/plain": [
       "{'!',\n",
       " '\"',\n",
       " '#',\n",
       " '$',\n",
       " '%',\n",
       " '&',\n",
       " \"'\",\n",
       " '(',\n",
       " ')',\n",
       " '*',\n",
       " '+',\n",
       " ',',\n",
       " '-',\n",
       " '.',\n",
       " '/',\n",
       " ':',\n",
       " ';',\n",
       " '<',\n",
       " '=',\n",
       " '>',\n",
       " '?',\n",
       " '@',\n",
       " '[',\n",
       " '\\\\',\n",
       " ']',\n",
       " '^',\n",
       " '_',\n",
       " '`',\n",
       " '{',\n",
       " '|',\n",
       " '}',\n",
       " '~'}"
      ]
     },
     "execution_count": 159,
     "metadata": {},
     "output_type": "execute_result"
    }
   ],
   "source": [
    "from string import punctuation\n",
    "import string\n",
    "set(string.punctuation)"
   ]
  },
  {
   "cell_type": "code",
   "execution_count": null,
   "id": "948886f1-cd8f-4829-b7f2-b93a35033547",
   "metadata": {},
   "outputs": [],
   "source": []
  }
 ],
 "metadata": {
  "kernelspec": {
   "display_name": "PyTorch 1.13 (NGC 22.05/Python 3.8 Conda) on Backend.AI",
   "language": "python",
   "name": "python3"
  },
  "language_info": {
   "codemirror_mode": {
    "name": "ipython",
    "version": 3
   },
   "file_extension": ".py",
   "mimetype": "text/x-python",
   "name": "python",
   "nbconvert_exporter": "python",
   "pygments_lexer": "ipython3",
   "version": "3.8.13"
  }
 },
 "nbformat": 4,
 "nbformat_minor": 5
}
