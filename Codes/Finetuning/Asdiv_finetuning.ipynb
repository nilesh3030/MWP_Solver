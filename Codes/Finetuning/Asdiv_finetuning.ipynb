{
 "cells": [
  {
   "cell_type": "code",
   "execution_count": 1,
   "id": "9bb35fcc-ab59-401c-a46d-872081ca3318",
   "metadata": {},
   "outputs": [
    {
     "name": "stderr",
     "output_type": "stream",
     "text": [
      "/opt/conda/lib/python3.8/site-packages/pandas/compat/_optional.py:161: UserWarning: Pandas requires version '2.7.1' or newer of 'numexpr' (version '2.7.0' currently installed).\n",
      "  warnings.warn(msg, UserWarning)\n",
      "/opt/conda/lib/python3.8/site-packages/pkg_resources/__init__.py:116: PkgResourcesDeprecationWarning: 0.996-ko-0.9.2 is an invalid version and will not be supported in a future release\n",
      "  warnings.warn(\n",
      "/opt/conda/lib/python3.8/site-packages/pkg_resources/__init__.py:116: PkgResourcesDeprecationWarning: 0.996-ko-0.9.2 is an invalid version and will not be supported in a future release\n",
      "  warnings.warn(\n"
     ]
    }
   ],
   "source": [
    "import torch\n",
    "from torch import nn\n",
    "import random\n",
    "import pandas as pd\n",
    "import numpy as np\n",
    "import json\n",
    "import math\n",
    "import re\n",
    "import pytorch_lightning as pl\n",
    "from torch.utils.data import DataLoader, random_split, Dataset\n",
    "from torch.nn import functional as F\n",
    "from transformers import T5ForConditionalGeneration, T5Tokenizer\n",
    "from torch.optim.lr_scheduler import ReduceLROnPlateau\n",
    "import os\n",
    "import time\n",
    "from string import punctuation\n",
    "import string\n",
    "import argparse\n",
    "from argparse import ArgumentParser\n",
    "from pytorch_lightning.loggers import TensorBoardLogger\n",
    "from pytorch_lightning.callbacks import ModelCheckpoint"
   ]
  },
  {
   "cell_type": "code",
   "execution_count": 2,
   "id": "2400d027-b9d1-4add-a769-9c76fecf3295",
   "metadata": {},
   "outputs": [],
   "source": [
    "asdiv = pd.read_csv(\"Asdiv.csv\")"
   ]
  },
  {
   "cell_type": "code",
   "execution_count": 3,
   "id": "64740a6e-49f7-43fa-85ec-3f765bac8b69",
   "metadata": {},
   "outputs": [
    {
     "data": {
      "text/html": [
       "<div>\n",
       "<style scoped>\n",
       "    .dataframe tbody tr th:only-of-type {\n",
       "        vertical-align: middle;\n",
       "    }\n",
       "\n",
       "    .dataframe tbody tr th {\n",
       "        vertical-align: top;\n",
       "    }\n",
       "\n",
       "    .dataframe thead th {\n",
       "        text-align: right;\n",
       "    }\n",
       "</style>\n",
       "<table border=\"1\" class=\"dataframe\">\n",
       "  <thead>\n",
       "    <tr style=\"text-align: right;\">\n",
       "      <th></th>\n",
       "      <th>ID</th>\n",
       "      <th>Grade</th>\n",
       "      <th>Source</th>\n",
       "      <th>Body</th>\n",
       "      <th>Question</th>\n",
       "      <th>Solution_Type</th>\n",
       "      <th>Answer</th>\n",
       "      <th>Formula</th>\n",
       "    </tr>\n",
       "  </thead>\n",
       "  <tbody>\n",
       "    <tr>\n",
       "      <th>0</th>\n",
       "      <td>nluds-0001</td>\n",
       "      <td>1</td>\n",
       "      <td>http://www.k5learning.com</td>\n",
       "      <td>Seven red apples and two green apples are in t...</td>\n",
       "      <td>How many apples are in the basket?</td>\n",
       "      <td>Addition</td>\n",
       "      <td>9 (apples)</td>\n",
       "      <td>7+2=9</td>\n",
       "    </tr>\n",
       "    <tr>\n",
       "      <th>1</th>\n",
       "      <td>nluds-0002</td>\n",
       "      <td>1</td>\n",
       "      <td>http://www.k5learning.com</td>\n",
       "      <td>Ellen has six more balls than Marin. Marin has...</td>\n",
       "      <td>How many balls does Ellen have?</td>\n",
       "      <td>Addition</td>\n",
       "      <td>15 (balls)</td>\n",
       "      <td>6+9=15</td>\n",
       "    </tr>\n",
       "    <tr>\n",
       "      <th>2</th>\n",
       "      <td>nluds-0003</td>\n",
       "      <td>1</td>\n",
       "      <td>http://www.k5learning.com</td>\n",
       "      <td>Janet has nine oranges and Sharon has seven or...</td>\n",
       "      <td>How many oranges do Janet and Sharon have toge...</td>\n",
       "      <td>Addition</td>\n",
       "      <td>16 (oranges)</td>\n",
       "      <td>9+7=16</td>\n",
       "    </tr>\n",
       "    <tr>\n",
       "      <th>3</th>\n",
       "      <td>nluds-0004</td>\n",
       "      <td>1</td>\n",
       "      <td>http://www.k5learning.com</td>\n",
       "      <td>Allan brought two balloons and Jake brought fo...</td>\n",
       "      <td>How many balloons did Allan and Jake have in t...</td>\n",
       "      <td>Addition</td>\n",
       "      <td>6 (balloons)</td>\n",
       "      <td>2+4=6</td>\n",
       "    </tr>\n",
       "    <tr>\n",
       "      <th>4</th>\n",
       "      <td>nluds-0005</td>\n",
       "      <td>1</td>\n",
       "      <td>http://www.k5learning.com</td>\n",
       "      <td>Adam has five more apples than Jackie. Jackie ...</td>\n",
       "      <td>How many apples does Adam have?</td>\n",
       "      <td>Addition</td>\n",
       "      <td>14 (apples)</td>\n",
       "      <td>5+9=14</td>\n",
       "    </tr>\n",
       "  </tbody>\n",
       "</table>\n",
       "</div>"
      ],
      "text/plain": [
       "           ID  Grade                     Source  \\\n",
       "0  nluds-0001      1  http://www.k5learning.com   \n",
       "1  nluds-0002      1  http://www.k5learning.com   \n",
       "2  nluds-0003      1  http://www.k5learning.com   \n",
       "3  nluds-0004      1  http://www.k5learning.com   \n",
       "4  nluds-0005      1  http://www.k5learning.com   \n",
       "\n",
       "                                                Body  \\\n",
       "0  Seven red apples and two green apples are in t...   \n",
       "1  Ellen has six more balls than Marin. Marin has...   \n",
       "2  Janet has nine oranges and Sharon has seven or...   \n",
       "3  Allan brought two balloons and Jake brought fo...   \n",
       "4  Adam has five more apples than Jackie. Jackie ...   \n",
       "\n",
       "                                            Question Solution_Type  \\\n",
       "0                 How many apples are in the basket?      Addition   \n",
       "1                    How many balls does Ellen have?      Addition   \n",
       "2  How many oranges do Janet and Sharon have toge...      Addition   \n",
       "3  How many balloons did Allan and Jake have in t...      Addition   \n",
       "4                    How many apples does Adam have?      Addition   \n",
       "\n",
       "         Answer Formula  \n",
       "0    9 (apples)   7+2=9  \n",
       "1    15 (balls)  6+9=15  \n",
       "2  16 (oranges)  9+7=16  \n",
       "3  6 (balloons)   2+4=6  \n",
       "4   14 (apples)  5+9=14  "
      ]
     },
     "execution_count": 3,
     "metadata": {},
     "output_type": "execute_result"
    }
   ],
   "source": [
    "asdiv.head()"
   ]
  },
  {
   "cell_type": "code",
   "execution_count": 4,
   "id": "d3efa062-1801-40a6-8f9c-416f08360cc0",
   "metadata": {},
   "outputs": [
    {
     "data": {
      "text/plain": [
       "(2305, 4)"
      ]
     },
     "execution_count": 4,
     "metadata": {},
     "output_type": "execute_result"
    }
   ],
   "source": [
    "asdiv = asdiv[[ \"Body\", \"Question\", \"Formula\", \"Answer\"]]\n",
    "asdiv.shape"
   ]
  },
  {
   "cell_type": "code",
   "execution_count": 5,
   "id": "0fe74b42-a2e3-4469-86b8-69781ee4aedf",
   "metadata": {},
   "outputs": [],
   "source": [
    "asdiv.rename(columns={\n",
    "    'Body': 'context',\n",
    "    'Question': 'question',\n",
    "    'Answer': 'final answer'\n",
    "}, inplace=True)"
   ]
  },
  {
   "cell_type": "code",
   "execution_count": 6,
   "id": "d446c071-fc25-4759-86e9-d15fc52b1cab",
   "metadata": {},
   "outputs": [
    {
     "data": {
      "text/html": [
       "<div>\n",
       "<style scoped>\n",
       "    .dataframe tbody tr th:only-of-type {\n",
       "        vertical-align: middle;\n",
       "    }\n",
       "\n",
       "    .dataframe tbody tr th {\n",
       "        vertical-align: top;\n",
       "    }\n",
       "\n",
       "    .dataframe thead th {\n",
       "        text-align: right;\n",
       "    }\n",
       "</style>\n",
       "<table border=\"1\" class=\"dataframe\">\n",
       "  <thead>\n",
       "    <tr style=\"text-align: right;\">\n",
       "      <th></th>\n",
       "      <th>context</th>\n",
       "      <th>question</th>\n",
       "      <th>Formula</th>\n",
       "      <th>final answer</th>\n",
       "    </tr>\n",
       "  </thead>\n",
       "  <tbody>\n",
       "    <tr>\n",
       "      <th>0</th>\n",
       "      <td>Seven red apples and two green apples are in t...</td>\n",
       "      <td>How many apples are in the basket?</td>\n",
       "      <td>7+2=9</td>\n",
       "      <td>9 (apples)</td>\n",
       "    </tr>\n",
       "    <tr>\n",
       "      <th>1</th>\n",
       "      <td>Ellen has six more balls than Marin. Marin has...</td>\n",
       "      <td>How many balls does Ellen have?</td>\n",
       "      <td>6+9=15</td>\n",
       "      <td>15 (balls)</td>\n",
       "    </tr>\n",
       "    <tr>\n",
       "      <th>2</th>\n",
       "      <td>Janet has nine oranges and Sharon has seven or...</td>\n",
       "      <td>How many oranges do Janet and Sharon have toge...</td>\n",
       "      <td>9+7=16</td>\n",
       "      <td>16 (oranges)</td>\n",
       "    </tr>\n",
       "    <tr>\n",
       "      <th>3</th>\n",
       "      <td>Allan brought two balloons and Jake brought fo...</td>\n",
       "      <td>How many balloons did Allan and Jake have in t...</td>\n",
       "      <td>2+4=6</td>\n",
       "      <td>6 (balloons)</td>\n",
       "    </tr>\n",
       "    <tr>\n",
       "      <th>4</th>\n",
       "      <td>Adam has five more apples than Jackie. Jackie ...</td>\n",
       "      <td>How many apples does Adam have?</td>\n",
       "      <td>5+9=14</td>\n",
       "      <td>14 (apples)</td>\n",
       "    </tr>\n",
       "  </tbody>\n",
       "</table>\n",
       "</div>"
      ],
      "text/plain": [
       "                                             context  \\\n",
       "0  Seven red apples and two green apples are in t...   \n",
       "1  Ellen has six more balls than Marin. Marin has...   \n",
       "2  Janet has nine oranges and Sharon has seven or...   \n",
       "3  Allan brought two balloons and Jake brought fo...   \n",
       "4  Adam has five more apples than Jackie. Jackie ...   \n",
       "\n",
       "                                            question Formula  final answer  \n",
       "0                 How many apples are in the basket?   7+2=9    9 (apples)  \n",
       "1                    How many balls does Ellen have?  6+9=15    15 (balls)  \n",
       "2  How many oranges do Janet and Sharon have toge...  9+7=16  16 (oranges)  \n",
       "3  How many balloons did Allan and Jake have in t...   2+4=6  6 (balloons)  \n",
       "4                    How many apples does Adam have?  5+9=14   14 (apples)  "
      ]
     },
     "execution_count": 6,
     "metadata": {},
     "output_type": "execute_result"
    }
   ],
   "source": [
    "asdiv.head()"
   ]
  },
  {
   "cell_type": "code",
   "execution_count": 7,
   "id": "59ac81bb-b067-41e0-b9f7-26b3f0e157d2",
   "metadata": {},
   "outputs": [],
   "source": [
    "asdiv['Numeric Answer'] = asdiv['final answer'].str.extract(r'(\\d+)')"
   ]
  },
  {
   "cell_type": "code",
   "execution_count": 8,
   "id": "215fff51-efa1-4b58-93bb-fff93f69328a",
   "metadata": {},
   "outputs": [],
   "source": [
    "# Split the equations based on the \"=\" symbol\n",
    "asdiv[['answer', 'Right Side']] = asdiv['Formula'].str.split('=', 1, expand=True)\n",
    "\n",
    "# Drop the original \"Equation\" column if not needed\n",
    "asdiv.drop(columns=['Formula', 'Right Side'], inplace=True)"
   ]
  },
  {
   "cell_type": "code",
   "execution_count": 9,
   "id": "b9ab367a-f9a8-4ac4-aae7-40dd31a52660",
   "metadata": {},
   "outputs": [],
   "source": [
    "#asdiv[\"answer\"] = asdiv[\"Formula\"] #+ \" final_answer:\" + asdiv['Numeric Answer']"
   ]
  },
  {
   "cell_type": "code",
   "execution_count": 10,
   "id": "59c7c211-526a-4a57-b249-e90a6c4fedbe",
   "metadata": {},
   "outputs": [
    {
     "data": {
      "text/html": [
       "<div>\n",
       "<style scoped>\n",
       "    .dataframe tbody tr th:only-of-type {\n",
       "        vertical-align: middle;\n",
       "    }\n",
       "\n",
       "    .dataframe tbody tr th {\n",
       "        vertical-align: top;\n",
       "    }\n",
       "\n",
       "    .dataframe thead th {\n",
       "        text-align: right;\n",
       "    }\n",
       "</style>\n",
       "<table border=\"1\" class=\"dataframe\">\n",
       "  <thead>\n",
       "    <tr style=\"text-align: right;\">\n",
       "      <th></th>\n",
       "      <th>context</th>\n",
       "      <th>question</th>\n",
       "      <th>final answer</th>\n",
       "      <th>Numeric Answer</th>\n",
       "      <th>answer</th>\n",
       "    </tr>\n",
       "  </thead>\n",
       "  <tbody>\n",
       "    <tr>\n",
       "      <th>0</th>\n",
       "      <td>Seven red apples and two green apples are in t...</td>\n",
       "      <td>How many apples are in the basket?</td>\n",
       "      <td>9 (apples)</td>\n",
       "      <td>9</td>\n",
       "      <td>7+2</td>\n",
       "    </tr>\n",
       "    <tr>\n",
       "      <th>1</th>\n",
       "      <td>Ellen has six more balls than Marin. Marin has...</td>\n",
       "      <td>How many balls does Ellen have?</td>\n",
       "      <td>15 (balls)</td>\n",
       "      <td>15</td>\n",
       "      <td>6+9</td>\n",
       "    </tr>\n",
       "    <tr>\n",
       "      <th>2</th>\n",
       "      <td>Janet has nine oranges and Sharon has seven or...</td>\n",
       "      <td>How many oranges do Janet and Sharon have toge...</td>\n",
       "      <td>16 (oranges)</td>\n",
       "      <td>16</td>\n",
       "      <td>9+7</td>\n",
       "    </tr>\n",
       "    <tr>\n",
       "      <th>3</th>\n",
       "      <td>Allan brought two balloons and Jake brought fo...</td>\n",
       "      <td>How many balloons did Allan and Jake have in t...</td>\n",
       "      <td>6 (balloons)</td>\n",
       "      <td>6</td>\n",
       "      <td>2+4</td>\n",
       "    </tr>\n",
       "    <tr>\n",
       "      <th>4</th>\n",
       "      <td>Adam has five more apples than Jackie. Jackie ...</td>\n",
       "      <td>How many apples does Adam have?</td>\n",
       "      <td>14 (apples)</td>\n",
       "      <td>14</td>\n",
       "      <td>5+9</td>\n",
       "    </tr>\n",
       "  </tbody>\n",
       "</table>\n",
       "</div>"
      ],
      "text/plain": [
       "                                             context  \\\n",
       "0  Seven red apples and two green apples are in t...   \n",
       "1  Ellen has six more balls than Marin. Marin has...   \n",
       "2  Janet has nine oranges and Sharon has seven or...   \n",
       "3  Allan brought two balloons and Jake brought fo...   \n",
       "4  Adam has five more apples than Jackie. Jackie ...   \n",
       "\n",
       "                                            question  final answer  \\\n",
       "0                 How many apples are in the basket?    9 (apples)   \n",
       "1                    How many balls does Ellen have?    15 (balls)   \n",
       "2  How many oranges do Janet and Sharon have toge...  16 (oranges)   \n",
       "3  How many balloons did Allan and Jake have in t...  6 (balloons)   \n",
       "4                    How many apples does Adam have?   14 (apples)   \n",
       "\n",
       "  Numeric Answer answer  \n",
       "0              9    7+2  \n",
       "1             15    6+9  \n",
       "2             16    9+7  \n",
       "3              6    2+4  \n",
       "4             14    5+9  "
      ]
     },
     "execution_count": 10,
     "metadata": {},
     "output_type": "execute_result"
    }
   ],
   "source": [
    "asdiv.head()"
   ]
  },
  {
   "cell_type": "code",
   "execution_count": 11,
   "id": "3bddf2a2-0327-4c4f-83af-93a333279f4d",
   "metadata": {},
   "outputs": [],
   "source": [
    "asdiv = asdiv[[\"context\", \"question\", \"answer\"]]"
   ]
  },
  {
   "cell_type": "code",
   "execution_count": 12,
   "id": "478aa6ff-b33e-4444-8e05-f9815d68c31b",
   "metadata": {},
   "outputs": [
    {
     "data": {
      "text/html": [
       "<div>\n",
       "<style scoped>\n",
       "    .dataframe tbody tr th:only-of-type {\n",
       "        vertical-align: middle;\n",
       "    }\n",
       "\n",
       "    .dataframe tbody tr th {\n",
       "        vertical-align: top;\n",
       "    }\n",
       "\n",
       "    .dataframe thead th {\n",
       "        text-align: right;\n",
       "    }\n",
       "</style>\n",
       "<table border=\"1\" class=\"dataframe\">\n",
       "  <thead>\n",
       "    <tr style=\"text-align: right;\">\n",
       "      <th></th>\n",
       "      <th>context</th>\n",
       "      <th>question</th>\n",
       "      <th>answer</th>\n",
       "    </tr>\n",
       "  </thead>\n",
       "  <tbody>\n",
       "    <tr>\n",
       "      <th>0</th>\n",
       "      <td>Seven red apples and two green apples are in t...</td>\n",
       "      <td>How many apples are in the basket?</td>\n",
       "      <td>7+2</td>\n",
       "    </tr>\n",
       "    <tr>\n",
       "      <th>1</th>\n",
       "      <td>Ellen has six more balls than Marin. Marin has...</td>\n",
       "      <td>How many balls does Ellen have?</td>\n",
       "      <td>6+9</td>\n",
       "    </tr>\n",
       "    <tr>\n",
       "      <th>2</th>\n",
       "      <td>Janet has nine oranges and Sharon has seven or...</td>\n",
       "      <td>How many oranges do Janet and Sharon have toge...</td>\n",
       "      <td>9+7</td>\n",
       "    </tr>\n",
       "    <tr>\n",
       "      <th>3</th>\n",
       "      <td>Allan brought two balloons and Jake brought fo...</td>\n",
       "      <td>How many balloons did Allan and Jake have in t...</td>\n",
       "      <td>2+4</td>\n",
       "    </tr>\n",
       "    <tr>\n",
       "      <th>4</th>\n",
       "      <td>Adam has five more apples than Jackie. Jackie ...</td>\n",
       "      <td>How many apples does Adam have?</td>\n",
       "      <td>5+9</td>\n",
       "    </tr>\n",
       "  </tbody>\n",
       "</table>\n",
       "</div>"
      ],
      "text/plain": [
       "                                             context  \\\n",
       "0  Seven red apples and two green apples are in t...   \n",
       "1  Ellen has six more balls than Marin. Marin has...   \n",
       "2  Janet has nine oranges and Sharon has seven or...   \n",
       "3  Allan brought two balloons and Jake brought fo...   \n",
       "4  Adam has five more apples than Jackie. Jackie ...   \n",
       "\n",
       "                                            question answer  \n",
       "0                 How many apples are in the basket?    7+2  \n",
       "1                    How many balls does Ellen have?    6+9  \n",
       "2  How many oranges do Janet and Sharon have toge...    9+7  \n",
       "3  How many balloons did Allan and Jake have in t...    2+4  \n",
       "4                    How many apples does Adam have?    5+9  "
      ]
     },
     "execution_count": 12,
     "metadata": {},
     "output_type": "execute_result"
    }
   ],
   "source": [
    "asdiv.head()"
   ]
  },
  {
   "cell_type": "code",
   "execution_count": 13,
   "id": "1991a7f3-80ca-4abc-8a77-dedd2337e21b",
   "metadata": {},
   "outputs": [
    {
     "data": {
      "text/plain": [
       "context     object\n",
       "question    object\n",
       "answer      object\n",
       "dtype: object"
      ]
     },
     "execution_count": 13,
     "metadata": {},
     "output_type": "execute_result"
    }
   ],
   "source": [
    "asdiv.dtypes"
   ]
  },
  {
   "cell_type": "code",
   "execution_count": 18,
   "id": "12e25e3c-74d6-4bf5-b4c5-0c2b803968a5",
   "metadata": {},
   "outputs": [
    {
     "data": {
      "text/plain": [
       "'\\n# Function to replace numbers in the \\'number\\' column based on the \\'equation\\' column\\ndef replace_numbers(row):\\n    numbers = row[\\'Numbers\\']\\n    question = row[\"Body\"]\\n    for i, num in enumerate(numbers):\\n        question = question.replace(f\\'number{i}\\', str(num))    \\n\\n    return question\\n\\n# Apply the functions to the DataFrame\\nsvamp_testing[\\'Body\\'] = svamp_testing.apply(replace_numbers, axis=1)\\n\\n#print(svamp_testing)\\n'"
      ]
     },
     "execution_count": 18,
     "metadata": {},
     "output_type": "execute_result"
    }
   ],
   "source": [
    "'''\n",
    "# Function to replace numbers in the 'number' column based on the 'equation' column\n",
    "def replace_numbers(row):\n",
    "    numbers = row['Numbers']\n",
    "    question = row[\"Body\"]\n",
    "    for i, num in enumerate(numbers):\n",
    "        question = question.replace(f'number{i}', str(num))    \n",
    "\n",
    "    return question\n",
    "\n",
    "# Apply the functions to the DataFrame\n",
    "svamp_testing['Body'] = svamp_testing.apply(replace_numbers, axis=1)\n",
    "\n",
    "#print(svamp_testing)\n",
    "'''"
   ]
  },
  {
   "cell_type": "code",
   "execution_count": 19,
   "id": "9eed99d8-abf1-4e2b-90a6-dc2a79c49614",
   "metadata": {},
   "outputs": [
    {
     "data": {
      "text/plain": [
       "'\\ndef swap_operator_with_next_value(equation_list):\\n    swapped_equation = \"\"\\n    i = 0\\n    while i < len(equation_list):\\n        if i + 1 < len(equation_list) and equation_list[i] in [\"*\", \"/\", \"-\", \"+\"]:\\n            swapped_equation += f\"{equation_list[i+1]} {equation_list[i]} \"\\n            i += 1\\n        else:\\n            swapped_equation += f\"{equation_list[i]} \"\\n        i += 1\\n    return swapped_equation.strip()\\n\\n# Apply the function to swap operators in the \\'Equation\\' column\\nsvamp_testing[\\'formula\\'] = svamp_testing[\\'Equation\\'].apply(swap_operator_with_next_value)\\n'"
      ]
     },
     "execution_count": 19,
     "metadata": {},
     "output_type": "execute_result"
    }
   ],
   "source": [
    "'''\n",
    "def swap_operator_with_next_value(equation_list):\n",
    "    swapped_equation = \"\"\n",
    "    i = 0\n",
    "    while i < len(equation_list):\n",
    "        if i + 1 < len(equation_list) and equation_list[i] in [\"*\", \"/\", \"-\", \"+\"]:\n",
    "            swapped_equation += f\"{equation_list[i+1]} {equation_list[i]} \"\n",
    "            i += 1\n",
    "        else:\n",
    "            swapped_equation += f\"{equation_list[i]} \"\n",
    "        i += 1\n",
    "    return swapped_equation.strip()\n",
    "\n",
    "# Apply the function to swap operators in the 'Equation' column\n",
    "svamp_testing['formula'] = svamp_testing['Equation'].apply(swap_operator_with_next_value)\n",
    "'''"
   ]
  },
  {
   "cell_type": "code",
   "execution_count": 20,
   "id": "f8b187f4-5e4b-478c-9b41-8f9f84d28711",
   "metadata": {},
   "outputs": [
    {
     "data": {
      "text/plain": [
       "'\\n# Function to replace numbers in the \\'number\\' column based on the \\'equation\\' column\\ndef replace_numbers(row):\\n    numbers = row[\\'Numbers\\']\\n    formula = row[\"formula\"]\\n    for i, num in enumerate(numbers):\\n        formula = formula.replace(f\\'number{i}\\', str(num))    \\n\\n    return formula\\n\\n# Apply the functions to the DataFrame\\nsvamp_testing[\\'formula\\'] = svamp_testing.apply(replace_numbers, axis=1)\\n'"
      ]
     },
     "execution_count": 20,
     "metadata": {},
     "output_type": "execute_result"
    }
   ],
   "source": [
    "'''\n",
    "# Function to replace numbers in the 'number' column based on the 'equation' column\n",
    "def replace_numbers(row):\n",
    "    numbers = row['Numbers']\n",
    "    formula = row[\"formula\"]\n",
    "    for i, num in enumerate(numbers):\n",
    "        formula = formula.replace(f'number{i}', str(num))    \n",
    "\n",
    "    return formula\n",
    "\n",
    "# Apply the functions to the DataFrame\n",
    "svamp_testing['formula'] = svamp_testing.apply(replace_numbers, axis=1)\n",
    "'''"
   ]
  },
  {
   "cell_type": "code",
   "execution_count": 21,
   "id": "e8c48148-ede6-4816-b7ff-2696a7960f1c",
   "metadata": {},
   "outputs": [
    {
     "name": "stdout",
     "output_type": "stream",
     "text": [
      "Train set shape: (1844, 3)\n",
      "Validation set shape: (461, 3)\n"
     ]
    }
   ],
   "source": [
    "# Set the random seed for reproducibility\n",
    "random_seed = 42\n",
    "\n",
    "# Define the proportion of data to be used for validation\n",
    "validation_ratio = 0.20\n",
    "\n",
    "# Randomly sample the DataFrame to create the validation set\n",
    "val_data = asdiv.sample(frac=validation_ratio, random_state=random_seed)\n",
    "\n",
    "# Create the train set by excluding the validation set\n",
    "train_data = asdiv.drop(val_data.index)\n",
    "\n",
    "# Print the shapes of train and validation sets\n",
    "print(\"Train set shape:\", train_data.shape)\n",
    "print(\"Validation set shape:\", val_data.shape)"
   ]
  },
  {
   "cell_type": "code",
   "execution_count": 22,
   "id": "117583b1-d743-481e-88a8-3e7caef91dc6",
   "metadata": {},
   "outputs": [
    {
     "name": "stderr",
     "output_type": "stream",
     "text": [
      "/opt/conda/lib/python3.8/site-packages/torch/nn/modules/module.py:1402: UserWarning: positional arguments and argument \"destination\" are deprecated. nn.Module.state_dict will not accept them in the future. Refer to https://pytorch.org/docs/master/generated/torch.nn.Module.html#torch.nn.Module.state_dict for details.\n",
      "  warnings.warn(\n"
     ]
    }
   ],
   "source": [
    "pretrained_model_path = 'pretrained_ce'\n",
    "model = T5ForConditionalGeneration.from_pretrained(pretrained_model_path)\n",
    "tokenizer = T5Tokenizer.from_pretrained(pretrained_model_path)"
   ]
  },
  {
   "cell_type": "code",
   "execution_count": 23,
   "id": "970fdcea-75e7-4814-8a99-a0c87404b241",
   "metadata": {},
   "outputs": [],
   "source": [
    "class GSMData(Dataset):\n",
    "    def __init__(self, df, tokenizer, input_max_length=400, output_max_length=100):\n",
    "        self.dataset = df\n",
    "        self.tokenizer = tokenizer\n",
    "        self.input_length = input_max_length\n",
    "        self.output_length = output_max_length\n",
    "    \n",
    "    def __len__(self):\n",
    "        return len(self.dataset)\n",
    "    \n",
    "    \n",
    "    def __getitem__(self, index):\n",
    "        \n",
    "        data_row = self.dataset.iloc[index]\n",
    "        source_encoding = tokenizer(\n",
    "            data_row[\"question\"],\n",
    "            data_row[\"context\"],\n",
    "            max_length=self.input_length,\n",
    "            padding=\"max_length\",\n",
    "            truncation=True,\n",
    "            return_attention_mask=True,\n",
    "            add_special_tokens=True,\n",
    "            return_tensors='pt'\n",
    "        )\n",
    "        \n",
    "        target_encoding = tokenizer(\n",
    "            data_row[\"answer\"],\n",
    "            max_length=self.output_length,\n",
    "            padding=\"max_length\",\n",
    "            truncation=True,\n",
    "            return_attention_mask=True,\n",
    "            add_special_tokens=True,\n",
    "            return_tensors='pt'\n",
    "        )\n",
    "\n",
    "        \n",
    "        labels = target_encoding[\"input_ids\"]\n",
    "        labels[labels == 0] = -100\n",
    "        \n",
    "        return dict(\n",
    "            question=data_row[\"question\"],\n",
    "            context=data_row[\"context\"],\n",
    "            answer=data_row[\"answer\"],\n",
    "            input_ids=source_encoding[\"input_ids\"].flatten(),\n",
    "            attention_mask=source_encoding[\"attention_mask\"].flatten(),\n",
    "            labels=labels.flatten()\n",
    "        )"
   ]
  },
  {
   "cell_type": "code",
   "execution_count": 24,
   "id": "47efa005-ddd8-4bfd-b71e-684f975a5ca0",
   "metadata": {},
   "outputs": [],
   "source": [
    "class GSMDataModule(pl.LightningDataModule):\n",
    "    def __init__(self, train_file, val_file, test_file, tokenizer_name_or_path, input_length=400, output_length=100, batch_size=8, num_workers=4):\n",
    "        super().__init__()\n",
    "        self.train_file = train_file\n",
    "        self.val_file = val_file\n",
    "        self.test_file = test_file\n",
    "        self.tokenizer = T5Tokenizer.from_pretrained(tokenizer_name_or_path)\n",
    "        self.input_length = input_length\n",
    "        self.output_length = output_length\n",
    "        self.batch_size = batch_size\n",
    "        self.num_workers = num_workers\n",
    "             \n",
    "    def setup(self, stage=None):\n",
    "        if stage == 'fit' or stage is None:\n",
    "            self.train_data = GSMData(self.train_file, self.tokenizer)\n",
    "            self.val_data = GSMData(self.val_file, self.tokenizer)\n",
    "        if stage == 'test' or stage is None:\n",
    "            self.test_data = GSMData(self.test_file, self.tokenizer)\n",
    "        \n",
    "    def train_dataloader(self):\n",
    "        return DataLoader(self.train_data, batch_size=self.batch_size, num_workers=self.num_workers)\n",
    "     \n",
    "    def val_dataloader(self):\n",
    "        return DataLoader(self.val_data, batch_size=self.batch_size, num_workers=self.num_workers)\n",
    "    \n",
    "    def test_dataloader(self):\n",
    "        return DataLoader(self.test_data, batch_size=self.batch_size, num_workers=self.num_workers)"
   ]
  },
  {
   "cell_type": "code",
   "execution_count": 25,
   "id": "a24aabbe-dac9-477f-8aae-05cebbe0dbc9",
   "metadata": {},
   "outputs": [],
   "source": [
    "test_data = val_data\n",
    "data_module = GSMDataModule(train_data, val_data, test_data, pretrained_model_path)\n",
    "data_module.setup()"
   ]
  },
  {
   "cell_type": "code",
   "execution_count": 26,
   "id": "4234a733-432f-45fb-8a42-1f6684be2817",
   "metadata": {},
   "outputs": [],
   "source": [
    "class GSMModel(pl.LightningModule):\n",
    "    def __init__(self):\n",
    "        super().__init__()\n",
    "        self.model = T5ForConditionalGeneration.from_pretrained(pretrained_model_path, return_dict = True)\n",
    "        \n",
    "    def forward(self, input_ids, attention_mask, labels=None):\n",
    "        output = self.model(\n",
    "            input_ids = input_ids,\n",
    "            attention_mask=attention_mask,\n",
    "            labels=labels\n",
    "        )\n",
    "        return output.loss, output.logits\n",
    "    \n",
    "    def training_step(self, batch, batch_idx):\n",
    "        input_ids = batch[\"input_ids\"]\n",
    "        attention_mask = batch[\"attention_mask\"]\n",
    "        labels = batch[\"labels\"]\n",
    "        loss, outputs = self(input_ids, attention_mask, labels)\n",
    "        self.log(\"train_loss\", loss, prog_bar=True, logger=True)\n",
    "        return loss\n",
    "    \n",
    "    def validation_step(self, batch, batch_idx):\n",
    "        input_ids = batch[\"input_ids\"]\n",
    "        attention_mask = batch[\"attention_mask\"]\n",
    "        labels = batch[\"labels\"]\n",
    "        loss, outputs = self(input_ids, attention_mask, labels)\n",
    "        self.log(\"val_loss\", loss, prog_bar=True, logger=True)\n",
    "        return loss\n",
    "    \n",
    "    def test_step(self, batch, batch_idx):\n",
    "        input_ids = batch[\"input_ids\"]\n",
    "        attention_mask = batch[\"attention_mask\"]\n",
    "        labels = batch[\"labels\"]\n",
    "        loss, outputs = self(input_ids, attention_mask, labels)\n",
    "        self.log(\"test_loss\", loss, prog_bar=True, logger=True)\n",
    "        return loss\n",
    "    \n",
    "    def configure_optimizers(self):\n",
    "        optimizer = torch.optim.AdamW(self.parameters(), lr=1e-4)\n",
    "        \n",
    "        # Define the ReduceLROnPlateau scheduler\n",
    "        scheduler = ReduceLROnPlateau(optimizer, mode='min', factor=0.1, patience=2, verbose=True)\n",
    "        \n",
    "        return {\n",
    "            'optimizer': optimizer,\n",
    "            'lr_scheduler': {\n",
    "                'scheduler': scheduler,\n",
    "                'monitor': 'val_loss',  # Monitor validation loss for scheduler\n",
    "                'interval': 'epoch',    # Adjust learning rate after each epoch\n",
    "                'frequency': 1          # Frequency to reduce LR (every epoch in this case)\n",
    "            }\n",
    "        }"
   ]
  },
  {
   "cell_type": "code",
   "execution_count": 27,
   "id": "150faae4-84be-438e-99f7-ca836ebfac66",
   "metadata": {},
   "outputs": [],
   "source": [
    "model = GSMModel()"
   ]
  },
  {
   "cell_type": "code",
   "execution_count": 28,
   "id": "59bf1d39-a340-49dc-bf06-7f671207c6e7",
   "metadata": {},
   "outputs": [],
   "source": [
    "checkpoint_callback = ModelCheckpoint(\n",
    "    dirpath=\"Finetuned_checkpoint\",\n",
    "    filename='best_model_ce_asdiv_mask_50_span_3',\n",
    "    save_top_k=1,\n",
    "    verbose=True,\n",
    "    monitor='val_loss',\n",
    "    mode='min',\n",
    "    save_weights_only=True,\n",
    ")"
   ]
  },
  {
   "cell_type": "code",
   "execution_count": 29,
   "id": "07b7338b-efb9-445f-af0f-cd33407ba215",
   "metadata": {},
   "outputs": [],
   "source": [
    "# create a logger instance\n",
    "logger = TensorBoardLogger(save_dir='logs/', name='Asdiv_Finetuning_Logs')"
   ]
  },
  {
   "cell_type": "code",
   "execution_count": 30,
   "id": "aeb4361c-c71b-4ad7-9a3f-d77a6a9a4243",
   "metadata": {},
   "outputs": [
    {
     "name": "stderr",
     "output_type": "stream",
     "text": [
      "/opt/conda/lib/python3.8/site-packages/pkg_resources/__init__.py:116: PkgResourcesDeprecationWarning: 0.996-ko-0.9.2 is an invalid version and will not be supported in a future release\n",
      "  warnings.warn(\n",
      "GPU available: True (cuda), used: True\n",
      "TPU available: False, using: 0 TPU cores\n",
      "IPU available: False, using: 0 IPUs\n",
      "HPU available: False, using: 0 HPUs\n"
     ]
    }
   ],
   "source": [
    "trainer = pl.Trainer(\n",
    "    callbacks=[checkpoint_callback],\n",
    "    max_epochs = 20,\n",
    "    logger=logger\n",
    ")"
   ]
  },
  {
   "cell_type": "code",
   "execution_count": 31,
   "id": "ec4b68d6-a0e0-4de2-99df-a4c1f763f6e6",
   "metadata": {},
   "outputs": [
    {
     "name": "stderr",
     "output_type": "stream",
     "text": [
      "/home/work/.local/lib/python3.8/site-packages/pytorch_lightning/callbacks/model_checkpoint.py:617: UserWarning: Checkpoint directory /home/work/GSM8K/CustomT5/Finetuned_checkpoint exists and is not empty.\n",
      "  rank_zero_warn(f\"Checkpoint directory {dirpath} exists and is not empty.\")\n",
      "LOCAL_RANK: 0 - CUDA_VISIBLE_DEVICES: [0]\n",
      "\n",
      "  | Name  | Type                       | Params\n",
      "-----------------------------------------------------\n",
      "0 | model | T5ForConditionalGeneration | 783 M \n",
      "-----------------------------------------------------\n",
      "783 M     Trainable params\n",
      "0         Non-trainable params\n",
      "783 M     Total params\n",
      "3,132.600 Total estimated model params size (MB)\n"
     ]
    },
    {
     "data": {
      "application/vnd.jupyter.widget-view+json": {
       "model_id": "",
       "version_major": 2,
       "version_minor": 0
      },
      "text/plain": [
       "Sanity Checking: 0it [00:00, ?it/s]"
      ]
     },
     "metadata": {},
     "output_type": "display_data"
    },
    {
     "name": "stderr",
     "output_type": "stream",
     "text": [
      "/opt/conda/lib/python3.8/site-packages/torch/utils/data/dataloader.py:490: UserWarning: This DataLoader will create 4 worker processes in total. Our suggested max number of worker in current system is 1, which is smaller than what this DataLoader is going to create. Please be aware that excessive worker creation might get DataLoader running slow or even freeze, lower the worker number to avoid potential slowness/freeze if necessary.\n",
      "  warnings.warn(_create_warning_msg(\n"
     ]
    },
    {
     "data": {
      "application/vnd.jupyter.widget-view+json": {
       "model_id": "e4436f9bc54e4835906c54efb629586c",
       "version_major": 2,
       "version_minor": 0
      },
      "text/plain": [
       "Training: 0it [00:00, ?it/s]"
      ]
     },
     "metadata": {},
     "output_type": "display_data"
    },
    {
     "data": {
      "application/vnd.jupyter.widget-view+json": {
       "model_id": "",
       "version_major": 2,
       "version_minor": 0
      },
      "text/plain": [
       "Validation: 0it [00:00, ?it/s]"
      ]
     },
     "metadata": {},
     "output_type": "display_data"
    },
    {
     "name": "stderr",
     "output_type": "stream",
     "text": [
      "Epoch 0, global step 231: 'val_loss' reached 5.80204 (best 5.80204), saving model to '/home/work/GSM8K/CustomT5/Finetuned_checkpoint/best_model_ce_asdiv_mask_50_span_3.ckpt' as top 1\n",
      "/opt/conda/lib/python3.8/site-packages/torch/nn/modules/module.py:1402: UserWarning: positional arguments and argument \"destination\" are deprecated. nn.Module.state_dict will not accept them in the future. Refer to https://pytorch.org/docs/master/generated/torch.nn.Module.html#torch.nn.Module.state_dict for details.\n",
      "  warnings.warn(\n"
     ]
    },
    {
     "data": {
      "application/vnd.jupyter.widget-view+json": {
       "model_id": "",
       "version_major": 2,
       "version_minor": 0
      },
      "text/plain": [
       "Validation: 0it [00:00, ?it/s]"
      ]
     },
     "metadata": {},
     "output_type": "display_data"
    },
    {
     "name": "stderr",
     "output_type": "stream",
     "text": [
      "Epoch 1, global step 462: 'val_loss' reached 4.65520 (best 4.65520), saving model to '/home/work/GSM8K/CustomT5/Finetuned_checkpoint/best_model_ce_asdiv_mask_50_span_3.ckpt' as top 1\n"
     ]
    },
    {
     "data": {
      "application/vnd.jupyter.widget-view+json": {
       "model_id": "",
       "version_major": 2,
       "version_minor": 0
      },
      "text/plain": [
       "Validation: 0it [00:00, ?it/s]"
      ]
     },
     "metadata": {},
     "output_type": "display_data"
    },
    {
     "name": "stderr",
     "output_type": "stream",
     "text": [
      "Epoch 2, global step 693: 'val_loss' reached 3.75518 (best 3.75518), saving model to '/home/work/GSM8K/CustomT5/Finetuned_checkpoint/best_model_ce_asdiv_mask_50_span_3.ckpt' as top 1\n"
     ]
    },
    {
     "data": {
      "application/vnd.jupyter.widget-view+json": {
       "model_id": "",
       "version_major": 2,
       "version_minor": 0
      },
      "text/plain": [
       "Validation: 0it [00:00, ?it/s]"
      ]
     },
     "metadata": {},
     "output_type": "display_data"
    },
    {
     "name": "stderr",
     "output_type": "stream",
     "text": [
      "Epoch 3, global step 924: 'val_loss' reached 1.65207 (best 1.65207), saving model to '/home/work/GSM8K/CustomT5/Finetuned_checkpoint/best_model_ce_asdiv_mask_50_span_3.ckpt' as top 1\n"
     ]
    },
    {
     "data": {
      "application/vnd.jupyter.widget-view+json": {
       "model_id": "",
       "version_major": 2,
       "version_minor": 0
      },
      "text/plain": [
       "Validation: 0it [00:00, ?it/s]"
      ]
     },
     "metadata": {},
     "output_type": "display_data"
    },
    {
     "name": "stderr",
     "output_type": "stream",
     "text": [
      "Epoch 4, global step 1155: 'val_loss' reached 1.32655 (best 1.32655), saving model to '/home/work/GSM8K/CustomT5/Finetuned_checkpoint/best_model_ce_asdiv_mask_50_span_3.ckpt' as top 1\n"
     ]
    },
    {
     "data": {
      "application/vnd.jupyter.widget-view+json": {
       "model_id": "",
       "version_major": 2,
       "version_minor": 0
      },
      "text/plain": [
       "Validation: 0it [00:00, ?it/s]"
      ]
     },
     "metadata": {},
     "output_type": "display_data"
    },
    {
     "name": "stderr",
     "output_type": "stream",
     "text": [
      "Epoch 5, global step 1386: 'val_loss' reached 0.92108 (best 0.92108), saving model to '/home/work/GSM8K/CustomT5/Finetuned_checkpoint/best_model_ce_asdiv_mask_50_span_3.ckpt' as top 1\n"
     ]
    },
    {
     "data": {
      "application/vnd.jupyter.widget-view+json": {
       "model_id": "",
       "version_major": 2,
       "version_minor": 0
      },
      "text/plain": [
       "Validation: 0it [00:00, ?it/s]"
      ]
     },
     "metadata": {},
     "output_type": "display_data"
    },
    {
     "name": "stderr",
     "output_type": "stream",
     "text": [
      "Epoch 6, global step 1617: 'val_loss' reached 0.88816 (best 0.88816), saving model to '/home/work/GSM8K/CustomT5/Finetuned_checkpoint/best_model_ce_asdiv_mask_50_span_3.ckpt' as top 1\n"
     ]
    },
    {
     "data": {
      "application/vnd.jupyter.widget-view+json": {
       "model_id": "",
       "version_major": 2,
       "version_minor": 0
      },
      "text/plain": [
       "Validation: 0it [00:00, ?it/s]"
      ]
     },
     "metadata": {},
     "output_type": "display_data"
    },
    {
     "name": "stderr",
     "output_type": "stream",
     "text": [
      "Epoch 7, global step 1848: 'val_loss' was not in top 1\n"
     ]
    },
    {
     "data": {
      "application/vnd.jupyter.widget-view+json": {
       "model_id": "",
       "version_major": 2,
       "version_minor": 0
      },
      "text/plain": [
       "Validation: 0it [00:00, ?it/s]"
      ]
     },
     "metadata": {},
     "output_type": "display_data"
    },
    {
     "name": "stderr",
     "output_type": "stream",
     "text": [
      "Epoch 8, global step 2079: 'val_loss' was not in top 1\n"
     ]
    },
    {
     "data": {
      "application/vnd.jupyter.widget-view+json": {
       "model_id": "",
       "version_major": 2,
       "version_minor": 0
      },
      "text/plain": [
       "Validation: 0it [00:00, ?it/s]"
      ]
     },
     "metadata": {},
     "output_type": "display_data"
    },
    {
     "name": "stderr",
     "output_type": "stream",
     "text": [
      "Epoch 9, global step 2310: 'val_loss' was not in top 1\n"
     ]
    },
    {
     "name": "stdout",
     "output_type": "stream",
     "text": [
      "Epoch 00010: reducing learning rate of group 0 to 1.0000e-05.\n"
     ]
    },
    {
     "data": {
      "application/vnd.jupyter.widget-view+json": {
       "model_id": "",
       "version_major": 2,
       "version_minor": 0
      },
      "text/plain": [
       "Validation: 0it [00:00, ?it/s]"
      ]
     },
     "metadata": {},
     "output_type": "display_data"
    },
    {
     "name": "stderr",
     "output_type": "stream",
     "text": [
      "Epoch 10, global step 2541: 'val_loss' reached 0.70094 (best 0.70094), saving model to '/home/work/GSM8K/CustomT5/Finetuned_checkpoint/best_model_ce_asdiv_mask_50_span_3.ckpt' as top 1\n"
     ]
    },
    {
     "data": {
      "application/vnd.jupyter.widget-view+json": {
       "model_id": "",
       "version_major": 2,
       "version_minor": 0
      },
      "text/plain": [
       "Validation: 0it [00:00, ?it/s]"
      ]
     },
     "metadata": {},
     "output_type": "display_data"
    },
    {
     "name": "stderr",
     "output_type": "stream",
     "text": [
      "Epoch 11, global step 2772: 'val_loss' was not in top 1\n"
     ]
    },
    {
     "data": {
      "application/vnd.jupyter.widget-view+json": {
       "model_id": "",
       "version_major": 2,
       "version_minor": 0
      },
      "text/plain": [
       "Validation: 0it [00:00, ?it/s]"
      ]
     },
     "metadata": {},
     "output_type": "display_data"
    },
    {
     "name": "stderr",
     "output_type": "stream",
     "text": [
      "Epoch 12, global step 3003: 'val_loss' was not in top 1\n"
     ]
    },
    {
     "data": {
      "application/vnd.jupyter.widget-view+json": {
       "model_id": "",
       "version_major": 2,
       "version_minor": 0
      },
      "text/plain": [
       "Validation: 0it [00:00, ?it/s]"
      ]
     },
     "metadata": {},
     "output_type": "display_data"
    },
    {
     "name": "stderr",
     "output_type": "stream",
     "text": [
      "Epoch 13, global step 3234: 'val_loss' was not in top 1\n"
     ]
    },
    {
     "name": "stdout",
     "output_type": "stream",
     "text": [
      "Epoch 00014: reducing learning rate of group 0 to 1.0000e-06.\n"
     ]
    },
    {
     "data": {
      "application/vnd.jupyter.widget-view+json": {
       "model_id": "",
       "version_major": 2,
       "version_minor": 0
      },
      "text/plain": [
       "Validation: 0it [00:00, ?it/s]"
      ]
     },
     "metadata": {},
     "output_type": "display_data"
    },
    {
     "name": "stderr",
     "output_type": "stream",
     "text": [
      "Epoch 14, global step 3465: 'val_loss' was not in top 1\n"
     ]
    },
    {
     "data": {
      "application/vnd.jupyter.widget-view+json": {
       "model_id": "",
       "version_major": 2,
       "version_minor": 0
      },
      "text/plain": [
       "Validation: 0it [00:00, ?it/s]"
      ]
     },
     "metadata": {},
     "output_type": "display_data"
    },
    {
     "name": "stderr",
     "output_type": "stream",
     "text": [
      "Epoch 15, global step 3696: 'val_loss' was not in top 1\n"
     ]
    },
    {
     "data": {
      "application/vnd.jupyter.widget-view+json": {
       "model_id": "",
       "version_major": 2,
       "version_minor": 0
      },
      "text/plain": [
       "Validation: 0it [00:00, ?it/s]"
      ]
     },
     "metadata": {},
     "output_type": "display_data"
    },
    {
     "name": "stderr",
     "output_type": "stream",
     "text": [
      "Epoch 16, global step 3927: 'val_loss' was not in top 1\n"
     ]
    },
    {
     "name": "stdout",
     "output_type": "stream",
     "text": [
      "Epoch 00017: reducing learning rate of group 0 to 1.0000e-07.\n"
     ]
    },
    {
     "data": {
      "application/vnd.jupyter.widget-view+json": {
       "model_id": "",
       "version_major": 2,
       "version_minor": 0
      },
      "text/plain": [
       "Validation: 0it [00:00, ?it/s]"
      ]
     },
     "metadata": {},
     "output_type": "display_data"
    },
    {
     "name": "stderr",
     "output_type": "stream",
     "text": [
      "Epoch 17, global step 4158: 'val_loss' was not in top 1\n"
     ]
    },
    {
     "data": {
      "application/vnd.jupyter.widget-view+json": {
       "model_id": "",
       "version_major": 2,
       "version_minor": 0
      },
      "text/plain": [
       "Validation: 0it [00:00, ?it/s]"
      ]
     },
     "metadata": {},
     "output_type": "display_data"
    },
    {
     "name": "stderr",
     "output_type": "stream",
     "text": [
      "Epoch 18, global step 4389: 'val_loss' was not in top 1\n"
     ]
    },
    {
     "data": {
      "application/vnd.jupyter.widget-view+json": {
       "model_id": "",
       "version_major": 2,
       "version_minor": 0
      },
      "text/plain": [
       "Validation: 0it [00:00, ?it/s]"
      ]
     },
     "metadata": {},
     "output_type": "display_data"
    },
    {
     "name": "stderr",
     "output_type": "stream",
     "text": [
      "Epoch 19, global step 4620: 'val_loss' was not in top 1\n",
      "`Trainer.fit` stopped: `max_epochs=20` reached.\n"
     ]
    },
    {
     "name": "stdout",
     "output_type": "stream",
     "text": [
      "Epoch 00020: reducing learning rate of group 0 to 1.0000e-08.\n"
     ]
    }
   ],
   "source": [
    "trainer.fit(model,data_module)"
   ]
  },
  {
   "cell_type": "code",
   "execution_count": 32,
   "id": "e396e2ea-027b-4de5-b379-a8ae18b6712f",
   "metadata": {},
   "outputs": [],
   "source": [
    "### predictions\n",
    "finetuned_model = GSMModel.load_from_checkpoint(\"Finetuned_checkpoint/best_model_ce_asdiv_mask_50_span_3.ckpt\")\n",
    "finetuned_model.freeze()\n",
    "#finetuned_model.eval()"
   ]
  },
  {
   "cell_type": "code",
   "execution_count": 33,
   "id": "685ce6ce-0f5a-408a-9128-002a762fd1d2",
   "metadata": {},
   "outputs": [],
   "source": [
    "def generate_answer(question, return_sequences):\n",
    "    source_encoding = tokenizer(\n",
    "        question[\"question\"],\n",
    "        question[\"context\"],\n",
    "        max_length=400,\n",
    "        padding=\"max_length\",\n",
    "        truncation=True,\n",
    "        return_attention_mask=True,\n",
    "        add_special_tokens=True,\n",
    "        return_tensors='pt'\n",
    "    )\n",
    "\n",
    "    # Move the input tensors to the same device as the model\n",
    "    input_ids = source_encoding[\"input_ids\"].to(finetuned_model.device)\n",
    "    attention_mask = source_encoding[\"attention_mask\"].to(finetuned_model.device)\n",
    "\n",
    "    generated_ids = finetuned_model.model.generate(\n",
    "        input_ids=input_ids,\n",
    "        attention_mask=attention_mask,\n",
    "        num_beams=80,\n",
    "        max_length=100,\n",
    "        early_stopping=True,\n",
    "        use_cache=True,\n",
    "        repetition_penalty=3.0,\n",
    "        #temperature=1,\n",
    "        num_return_sequences = return_sequences\n",
    "    )\n",
    "\n",
    "    preds = [tokenizer.decode(gen_id, skip_special_tokens=True, clean_up_tokenization_space=True)\n",
    "             for gen_id in generated_ids]\n",
    "\n",
    "    return preds#\" \".join(preds)"
   ]
  },
  {
   "cell_type": "code",
   "execution_count": 34,
   "id": "a26d03dd-6e85-4ac8-ab40-af9776730031",
   "metadata": {},
   "outputs": [
    {
     "name": "stdout",
     "output_type": "stream",
     "text": [
      "['7+2', '7+2']\n"
     ]
    }
   ],
   "source": [
    "# Assuming you have the tokenizer and finetuned_model already defined and initialized\n",
    "# Question and Context data\n",
    "question_data = {\n",
    "    \"question\": \"How many apples are in the basket?\",\n",
    "    \"context\": \"Seven red apples and two green apples are in the basket.\"\n",
    "}\n",
    "\n",
    "# Get the output\n",
    "return_sequences = 2  # Set to True if you want multiple generated sequences\n",
    "output = generate_answer(question_data, return_sequences)\n",
    "print(output)  # This will print the generated answer\n"
   ]
  },
  {
   "cell_type": "code",
   "execution_count": 35,
   "id": "d0e4104c-64cc-4735-a37a-57e29f67d19a",
   "metadata": {},
   "outputs": [
    {
     "data": {
      "text/html": [
       "<div>\n",
       "<style scoped>\n",
       "    .dataframe tbody tr th:only-of-type {\n",
       "        vertical-align: middle;\n",
       "    }\n",
       "\n",
       "    .dataframe tbody tr th {\n",
       "        vertical-align: top;\n",
       "    }\n",
       "\n",
       "    .dataframe thead th {\n",
       "        text-align: right;\n",
       "    }\n",
       "</style>\n",
       "<table border=\"1\" class=\"dataframe\">\n",
       "  <thead>\n",
       "    <tr style=\"text-align: right;\">\n",
       "      <th></th>\n",
       "      <th>ID</th>\n",
       "      <th>Body</th>\n",
       "      <th>Question</th>\n",
       "      <th>Equation</th>\n",
       "      <th>Answer</th>\n",
       "      <th>Type</th>\n",
       "    </tr>\n",
       "  </thead>\n",
       "  <tbody>\n",
       "    <tr>\n",
       "      <th>0</th>\n",
       "      <td>chal-1</td>\n",
       "      <td>Each pack of dvds costs 76 dollars. If there i...</td>\n",
       "      <td>How much do you have to pay to buy each pack?</td>\n",
       "      <td>( 76.0 - 25.0 )</td>\n",
       "      <td>51</td>\n",
       "      <td>Subtraction</td>\n",
       "    </tr>\n",
       "    <tr>\n",
       "      <th>1</th>\n",
       "      <td>chal-2</td>\n",
       "      <td>Dan had $ 3 left with him after he bought a ca...</td>\n",
       "      <td>How much did the candy bar cost?</td>\n",
       "      <td>( 4.0 - 3.0 )</td>\n",
       "      <td>1</td>\n",
       "      <td>Subtraction</td>\n",
       "    </tr>\n",
       "    <tr>\n",
       "      <th>2</th>\n",
       "      <td>chal-3</td>\n",
       "      <td>Paco had 26 salty cookies and 17 sweet cookies...</td>\n",
       "      <td>How many salty cookies did Paco have left?</td>\n",
       "      <td>( 26.0 - 9.0 )</td>\n",
       "      <td>17</td>\n",
       "      <td>Subtraction</td>\n",
       "    </tr>\n",
       "    <tr>\n",
       "      <th>3</th>\n",
       "      <td>chal-4</td>\n",
       "      <td>43 children were riding on the bus. At the bus...</td>\n",
       "      <td>How many children got off the bus at the bus s...</td>\n",
       "      <td>( 43.0 - 21.0 )</td>\n",
       "      <td>22</td>\n",
       "      <td>Subtraction</td>\n",
       "    </tr>\n",
       "    <tr>\n",
       "      <th>4</th>\n",
       "      <td>chal-5</td>\n",
       "      <td>28 children were riding on the bus. At the bus...</td>\n",
       "      <td>How many more children got on the bus than tho...</td>\n",
       "      <td>( 30.0 - 28.0 )</td>\n",
       "      <td>2</td>\n",
       "      <td>Subtraction</td>\n",
       "    </tr>\n",
       "  </tbody>\n",
       "</table>\n",
       "</div>"
      ],
      "text/plain": [
       "       ID                                               Body  \\\n",
       "0  chal-1  Each pack of dvds costs 76 dollars. If there i...   \n",
       "1  chal-2  Dan had $ 3 left with him after he bought a ca...   \n",
       "2  chal-3  Paco had 26 salty cookies and 17 sweet cookies...   \n",
       "3  chal-4  43 children were riding on the bus. At the bus...   \n",
       "4  chal-5  28 children were riding on the bus. At the bus...   \n",
       "\n",
       "                                            Question         Equation  Answer  \\\n",
       "0      How much do you have to pay to buy each pack?  ( 76.0 - 25.0 )      51   \n",
       "1                   How much did the candy bar cost?    ( 4.0 - 3.0 )       1   \n",
       "2         How many salty cookies did Paco have left?   ( 26.0 - 9.0 )      17   \n",
       "3  How many children got off the bus at the bus s...  ( 43.0 - 21.0 )      22   \n",
       "4  How many more children got on the bus than tho...  ( 30.0 - 28.0 )       2   \n",
       "\n",
       "          Type  \n",
       "0  Subtraction  \n",
       "1  Subtraction  \n",
       "2  Subtraction  \n",
       "3  Subtraction  \n",
       "4  Subtraction  "
      ]
     },
     "execution_count": 35,
     "metadata": {},
     "output_type": "execute_result"
    }
   ],
   "source": [
    "svamp_data = pd.read_json(\"SVAMP.json\")\n",
    "svamp_data.head()"
   ]
  },
  {
   "cell_type": "code",
   "execution_count": 36,
   "id": "7cdb8ce9-a5a8-4628-9f5e-24e1ceca0d34",
   "metadata": {},
   "outputs": [],
   "source": [
    "svamp_data.rename(columns={\n",
    "    'Body': 'context',\n",
    "    'Question': 'question',\n",
    "    'Answer': 'answer'\n",
    "}, inplace=True)"
   ]
  },
  {
   "cell_type": "code",
   "execution_count": 37,
   "id": "fb6c8b52-7493-48d4-9444-e22b2b9b11f9",
   "metadata": {},
   "outputs": [
    {
     "data": {
      "text/plain": [
       "(1000, 4)"
      ]
     },
     "execution_count": 37,
     "metadata": {},
     "output_type": "execute_result"
    }
   ],
   "source": [
    "svamp_data = svamp_data[['context', 'question', 'answer', \"Equation\"]]\n",
    "svamp_data.shape"
   ]
  },
  {
   "cell_type": "code",
   "execution_count": 38,
   "id": "139185cb-ff6f-48ed-8232-09ab61f81c09",
   "metadata": {},
   "outputs": [
    {
     "name": "stdout",
     "output_type": "stream",
     "text": [
      "sequence generation complete\n"
     ]
    }
   ],
   "source": [
    "import warnings\n",
    "\n",
    "# Use the filterwarnings function to suppress SyntaxWarning\n",
    "warnings.filterwarnings(\"ignore\", category=SyntaxWarning)\n",
    "\n",
    "pass_outcome = {}\n",
    "temp_list = []\n",
    "# Generate sequences for the largest value in pass_list\n",
    "max_return_seq = 50 #max(pass_list)\n",
    "sequences = {}  # Dictionary to store the generated sequences for each question\n",
    "answers = {}\n",
    "for i in range(len(svamp_data)):\n",
    "    question = svamp_data.iloc[i]\n",
    "    sequences[i] = generate_answer(question, max_return_seq)\n",
    "    temp_list = []\n",
    "    for j in range(len(sequences[i])):\n",
    "        try:\n",
    "            temp_list.append(eval(sequences[i][j]))            \n",
    "        except:\n",
    "            temp_list.append(\"Not executable\")\n",
    "    answers[i] = temp_list\n",
    "    \n",
    "print(\"sequence generation complete\")"
   ]
  },
  {
   "cell_type": "code",
   "execution_count": 39,
   "id": "d8ee48d7-1e83-4b9a-a87e-9e58e0d89ceb",
   "metadata": {},
   "outputs": [],
   "source": [
    "#sequences, answers"
   ]
  },
  {
   "cell_type": "code",
   "execution_count": 40,
   "id": "77541f99-8399-45ec-8024-ba08581be62a",
   "metadata": {},
   "outputs": [],
   "source": [
    "sequences1 = sequences\n",
    "answers1 = answers"
   ]
  },
  {
   "cell_type": "code",
   "execution_count": 41,
   "id": "b35ae816-ef9f-4189-8c04-bf4e02a3c4f2",
   "metadata": {},
   "outputs": [
    {
     "data": {
      "text/html": [
       "<div>\n",
       "<style scoped>\n",
       "    .dataframe tbody tr th:only-of-type {\n",
       "        vertical-align: middle;\n",
       "    }\n",
       "\n",
       "    .dataframe tbody tr th {\n",
       "        vertical-align: top;\n",
       "    }\n",
       "\n",
       "    .dataframe thead th {\n",
       "        text-align: right;\n",
       "    }\n",
       "</style>\n",
       "<table border=\"1\" class=\"dataframe\">\n",
       "  <thead>\n",
       "    <tr style=\"text-align: right;\">\n",
       "      <th></th>\n",
       "      <th>context</th>\n",
       "      <th>question</th>\n",
       "      <th>answer</th>\n",
       "      <th>Equation</th>\n",
       "    </tr>\n",
       "  </thead>\n",
       "  <tbody>\n",
       "    <tr>\n",
       "      <th>0</th>\n",
       "      <td>Each pack of dvds costs 76 dollars. If there i...</td>\n",
       "      <td>How much do you have to pay to buy each pack?</td>\n",
       "      <td>51</td>\n",
       "      <td>( 76.0 - 25.0 )</td>\n",
       "    </tr>\n",
       "    <tr>\n",
       "      <th>1</th>\n",
       "      <td>Dan had $ 3 left with him after he bought a ca...</td>\n",
       "      <td>How much did the candy bar cost?</td>\n",
       "      <td>1</td>\n",
       "      <td>( 4.0 - 3.0 )</td>\n",
       "    </tr>\n",
       "    <tr>\n",
       "      <th>2</th>\n",
       "      <td>Paco had 26 salty cookies and 17 sweet cookies...</td>\n",
       "      <td>How many salty cookies did Paco have left?</td>\n",
       "      <td>17</td>\n",
       "      <td>( 26.0 - 9.0 )</td>\n",
       "    </tr>\n",
       "    <tr>\n",
       "      <th>3</th>\n",
       "      <td>43 children were riding on the bus. At the bus...</td>\n",
       "      <td>How many children got off the bus at the bus s...</td>\n",
       "      <td>22</td>\n",
       "      <td>( 43.0 - 21.0 )</td>\n",
       "    </tr>\n",
       "    <tr>\n",
       "      <th>4</th>\n",
       "      <td>28 children were riding on the bus. At the bus...</td>\n",
       "      <td>How many more children got on the bus than tho...</td>\n",
       "      <td>2</td>\n",
       "      <td>( 30.0 - 28.0 )</td>\n",
       "    </tr>\n",
       "  </tbody>\n",
       "</table>\n",
       "</div>"
      ],
      "text/plain": [
       "                                             context  \\\n",
       "0  Each pack of dvds costs 76 dollars. If there i...   \n",
       "1  Dan had $ 3 left with him after he bought a ca...   \n",
       "2  Paco had 26 salty cookies and 17 sweet cookies...   \n",
       "3  43 children were riding on the bus. At the bus...   \n",
       "4  28 children were riding on the bus. At the bus...   \n",
       "\n",
       "                                            question  answer         Equation  \n",
       "0      How much do you have to pay to buy each pack?      51  ( 76.0 - 25.0 )  \n",
       "1                   How much did the candy bar cost?       1    ( 4.0 - 3.0 )  \n",
       "2         How many salty cookies did Paco have left?      17   ( 26.0 - 9.0 )  \n",
       "3  How many children got off the bus at the bus s...      22  ( 43.0 - 21.0 )  \n",
       "4  How many more children got on the bus than tho...       2  ( 30.0 - 28.0 )  "
      ]
     },
     "execution_count": 41,
     "metadata": {},
     "output_type": "execute_result"
    }
   ],
   "source": [
    "svamp_data.head()"
   ]
  },
  {
   "cell_type": "code",
   "execution_count": 42,
   "id": "676b1382-dcf2-4df7-ab22-109471e40986",
   "metadata": {},
   "outputs": [
    {
     "data": {
      "text/html": [
       "<div>\n",
       "<style scoped>\n",
       "    .dataframe tbody tr th:only-of-type {\n",
       "        vertical-align: middle;\n",
       "    }\n",
       "\n",
       "    .dataframe tbody tr th {\n",
       "        vertical-align: top;\n",
       "    }\n",
       "\n",
       "    .dataframe thead th {\n",
       "        text-align: right;\n",
       "    }\n",
       "</style>\n",
       "<table border=\"1\" class=\"dataframe\">\n",
       "  <thead>\n",
       "    <tr style=\"text-align: right;\">\n",
       "      <th></th>\n",
       "      <th>0</th>\n",
       "      <th>1</th>\n",
       "      <th>2</th>\n",
       "      <th>3</th>\n",
       "      <th>4</th>\n",
       "      <th>5</th>\n",
       "      <th>6</th>\n",
       "      <th>7</th>\n",
       "      <th>8</th>\n",
       "      <th>9</th>\n",
       "      <th>...</th>\n",
       "      <th>40</th>\n",
       "      <th>41</th>\n",
       "      <th>42</th>\n",
       "      <th>43</th>\n",
       "      <th>44</th>\n",
       "      <th>45</th>\n",
       "      <th>46</th>\n",
       "      <th>47</th>\n",
       "      <th>48</th>\n",
       "      <th>49</th>\n",
       "    </tr>\n",
       "  </thead>\n",
       "  <tbody>\n",
       "    <tr>\n",
       "      <th>0</th>\n",
       "      <td>76-25</td>\n",
       "      <td>76-25</td>\n",
       "      <td>76-25</td>\n",
       "      <td>76/25</td>\n",
       "      <td>4*76-25</td>\n",
       "      <td>75*4-25</td>\n",
       "      <td>76-75</td>\n",
       "      <td>75/25</td>\n",
       "      <td>6*4-25</td>\n",
       "      <td>76-35</td>\n",
       "      <td>...</td>\n",
       "      <td>76-20.5</td>\n",
       "      <td>56-25</td>\n",
       "      <td>75-35</td>\n",
       "      <td>276-25</td>\n",
       "      <td>6*5</td>\n",
       "      <td>56*5</td>\n",
       "      <td>76-24</td>\n",
       "      <td>78-25</td>\n",
       "      <td>760-25</td>\n",
       "      <td>*76-25</td>\n",
       "    </tr>\n",
       "    <tr>\n",
       "      <th>1</th>\n",
       "      <td>4-3</td>\n",
       "      <td>(4-3)*4</td>\n",
       "      <td>4+3</td>\n",
       "      <td>3+4</td>\n",
       "      <td>(4-5)-3</td>\n",
       "      <td>(4-3)*2</td>\n",
       "      <td>(4-5)*4</td>\n",
       "      <td>GCD(3,4)</td>\n",
       "      <td>(3-2)*4</td>\n",
       "      <td>(4-3)*4</td>\n",
       "      <td>...</td>\n",
       "      <td>(3-2)-3</td>\n",
       "      <td>(3/3)*4</td>\n",
       "      <td>(4-0)*4</td>\n",
       "      <td>4:13</td>\n",
       "      <td>(3-2)-4</td>\n",
       "      <td>(4-5)/3</td>\n",
       "      <td>-4+3</td>\n",
       "      <td>(3/4)-3</td>\n",
       "      <td>(3-5)-4</td>\n",
       "      <td>4:14+3</td>\n",
       "    </tr>\n",
       "    <tr>\n",
       "      <th>2</th>\n",
       "      <td>26-9</td>\n",
       "      <td>26+17-9</td>\n",
       "      <td>26-4</td>\n",
       "      <td>26-9</td>\n",
       "      <td>6+17-9</td>\n",
       "      <td>27-9</td>\n",
       "      <td>26-27-9</td>\n",
       "      <td>26+9</td>\n",
       "      <td>26-9</td>\n",
       "      <td>6+14-9</td>\n",
       "      <td>...</td>\n",
       "      <td>26+14-9</td>\n",
       "      <td>16-9</td>\n",
       "      <td>25-9</td>\n",
       "      <td>26-3</td>\n",
       "      <td>26-7-9</td>\n",
       "      <td>+26-9</td>\n",
       "      <td>26- 9</td>\n",
       "      <td>46-9</td>\n",
       "      <td>; 26-9</td>\n",
       "      <td>36-9</td>\n",
       "    </tr>\n",
       "    <tr>\n",
       "      <th>3</th>\n",
       "      <td>43-21</td>\n",
       "      <td>43+21</td>\n",
       "      <td>4321-21</td>\n",
       "      <td>43-21</td>\n",
       "      <td>43 21</td>\n",
       "      <td>43-21</td>\n",
       "      <td>42-21</td>\n",
       "      <td>43 + 21</td>\n",
       "      <td>47+21</td>\n",
       "      <td>43-21</td>\n",
       "      <td>...</td>\n",
       "      <td>43 21-22</td>\n",
       "      <td>43+-21</td>\n",
       "      <td>4321-20</td>\n",
       "      <td>38+21</td>\n",
       "      <td>43-7-21</td>\n",
       "      <td>43-19</td>\n",
       "      <td>43-21</td>\n",
       "      <td>46-21</td>\n",
       "      <td>34+21</td>\n",
       "      <td>43-9-21</td>\n",
       "    </tr>\n",
       "    <tr>\n",
       "      <th>4</th>\n",
       "      <td>30-28</td>\n",
       "      <td>30-82</td>\n",
       "      <td>30-30-28</td>\n",
       "      <td>30-30</td>\n",
       "      <td>30-30-82</td>\n",
       "      <td>30 28-82</td>\n",
       "      <td>30-30+28</td>\n",
       "      <td>30-30 28</td>\n",
       "      <td>30+28</td>\n",
       "      <td>30-28</td>\n",
       "      <td>...</td>\n",
       "      <td>35-30-28</td>\n",
       "      <td>30, 28-82</td>\n",
       "      <td>30-2</td>\n",
       "      <td>-30-82</td>\n",
       "      <td>30-30- 28</td>\n",
       "      <td>28+82</td>\n",
       "      <td>31-28</td>\n",
       "      <td>30-84</td>\n",
       "      <td>30 -28</td>\n",
       "      <td>30-30-21</td>\n",
       "    </tr>\n",
       "  </tbody>\n",
       "</table>\n",
       "<p>5 rows × 50 columns</p>\n",
       "</div>"
      ],
      "text/plain": [
       "      0        1         2      3         4         5         6         7   \\\n",
       "0  76-25    76-25     76-25  76/25   4*76-25   75*4-25     76-75     75/25   \n",
       "1    4-3  (4-3)*4       4+3    3+4   (4-5)-3   (4-3)*2   (4-5)*4  GCD(3,4)   \n",
       "2   26-9  26+17-9      26-4   26-9    6+17-9      27-9   26-27-9      26+9   \n",
       "3  43-21    43+21   4321-21  43-21     43 21     43-21     42-21   43 + 21   \n",
       "4  30-28    30-82  30-30-28  30-30  30-30-82  30 28-82  30-30+28  30-30 28   \n",
       "\n",
       "        8        9   ...        40         41       42      43         44  \\\n",
       "0   6*4-25    76-35  ...   76-20.5      56-25    75-35  276-25        6*5   \n",
       "1  (3-2)*4  (4-3)*4  ...   (3-2)-3    (3/3)*4  (4-0)*4    4:13    (3-2)-4   \n",
       "2     26-9   6+14-9  ...   26+14-9       16-9     25-9    26-3     26-7-9   \n",
       "3    47+21    43-21  ...  43 21-22     43+-21  4321-20   38+21    43-7-21   \n",
       "4    30+28    30-28  ...  35-30-28  30, 28-82     30-2  -30-82  30-30- 28   \n",
       "\n",
       "        45     46       47       48        49  \n",
       "0     56*5  76-24    78-25   760-25    *76-25  \n",
       "1  (4-5)/3   -4+3  (3/4)-3  (3-5)-4    4:14+3  \n",
       "2    +26-9  26- 9     46-9   ; 26-9      36-9  \n",
       "3    43-19  43-21    46-21    34+21   43-9-21  \n",
       "4    28+82  31-28    30-84   30 -28  30-30-21  \n",
       "\n",
       "[5 rows x 50 columns]"
      ]
     },
     "execution_count": 42,
     "metadata": {},
     "output_type": "execute_result"
    }
   ],
   "source": [
    "sequences1 = pd.DataFrame.from_dict(sequences1, orient='index')\n",
    "answers1 = pd.DataFrame.from_dict(answers1, orient='index')\n",
    "sequences1.head()"
   ]
  },
  {
   "cell_type": "code",
   "execution_count": 43,
   "id": "9b6c3897-bea9-4ea3-955c-87776bd15146",
   "metadata": {},
   "outputs": [],
   "source": [
    "# You can create a dictionary to map old column names to new column names\n",
    "column_mapping = {i: f\"equation{i}\" for i in range(max_return_seq+1)}\n",
    "\n",
    "# Use the 'rename' method with the 'columns' parameter to rename the columns\n",
    "sequences1.rename(columns=column_mapping, inplace=True)"
   ]
  },
  {
   "cell_type": "code",
   "execution_count": 44,
   "id": "8cfb9c9f-7691-402e-a192-adc2956cfd19",
   "metadata": {},
   "outputs": [],
   "source": [
    "# You can create a dictionary to map old column names to new column names\n",
    "column_mapping = {i: f\"solution{i}\" for i in range(max_return_seq+1)}\n",
    "\n",
    "# Use the 'rename' method with the 'columns' parameter to rename the columns\n",
    "answers1.rename(columns=column_mapping, inplace=True)"
   ]
  },
  {
   "cell_type": "code",
   "execution_count": 45,
   "id": "d991e304-5cef-42ab-ab61-b447525813ab",
   "metadata": {},
   "outputs": [
    {
     "data": {
      "text/html": [
       "<div>\n",
       "<style scoped>\n",
       "    .dataframe tbody tr th:only-of-type {\n",
       "        vertical-align: middle;\n",
       "    }\n",
       "\n",
       "    .dataframe tbody tr th {\n",
       "        vertical-align: top;\n",
       "    }\n",
       "\n",
       "    .dataframe thead th {\n",
       "        text-align: right;\n",
       "    }\n",
       "</style>\n",
       "<table border=\"1\" class=\"dataframe\">\n",
       "  <thead>\n",
       "    <tr style=\"text-align: right;\">\n",
       "      <th></th>\n",
       "      <th>context</th>\n",
       "      <th>question</th>\n",
       "      <th>answer</th>\n",
       "      <th>Equation</th>\n",
       "      <th>equation0</th>\n",
       "      <th>equation1</th>\n",
       "      <th>equation2</th>\n",
       "      <th>equation3</th>\n",
       "      <th>equation4</th>\n",
       "      <th>equation5</th>\n",
       "      <th>...</th>\n",
       "      <th>solution40</th>\n",
       "      <th>solution41</th>\n",
       "      <th>solution42</th>\n",
       "      <th>solution43</th>\n",
       "      <th>solution44</th>\n",
       "      <th>solution45</th>\n",
       "      <th>solution46</th>\n",
       "      <th>solution47</th>\n",
       "      <th>solution48</th>\n",
       "      <th>solution49</th>\n",
       "    </tr>\n",
       "  </thead>\n",
       "  <tbody>\n",
       "    <tr>\n",
       "      <th>0</th>\n",
       "      <td>Each pack of dvds costs 76 dollars. If there i...</td>\n",
       "      <td>How much do you have to pay to buy each pack?</td>\n",
       "      <td>51</td>\n",
       "      <td>( 76.0 - 25.0 )</td>\n",
       "      <td>76-25</td>\n",
       "      <td>76-25</td>\n",
       "      <td>76-25</td>\n",
       "      <td>76/25</td>\n",
       "      <td>4*76-25</td>\n",
       "      <td>75*4-25</td>\n",
       "      <td>...</td>\n",
       "      <td>55.5</td>\n",
       "      <td>31</td>\n",
       "      <td>40</td>\n",
       "      <td>251</td>\n",
       "      <td>30</td>\n",
       "      <td>280</td>\n",
       "      <td>52</td>\n",
       "      <td>53</td>\n",
       "      <td>735</td>\n",
       "      <td>Not executable</td>\n",
       "    </tr>\n",
       "    <tr>\n",
       "      <th>1</th>\n",
       "      <td>Dan had $ 3 left with him after he bought a ca...</td>\n",
       "      <td>How much did the candy bar cost?</td>\n",
       "      <td>1</td>\n",
       "      <td>( 4.0 - 3.0 )</td>\n",
       "      <td>4-3</td>\n",
       "      <td>(4-3)*4</td>\n",
       "      <td>4+3</td>\n",
       "      <td>3+4</td>\n",
       "      <td>(4-5)-3</td>\n",
       "      <td>(4-3)*2</td>\n",
       "      <td>...</td>\n",
       "      <td>-2</td>\n",
       "      <td>4.0</td>\n",
       "      <td>16</td>\n",
       "      <td>Not executable</td>\n",
       "      <td>-3</td>\n",
       "      <td>-0.333333</td>\n",
       "      <td>-1</td>\n",
       "      <td>-2.25</td>\n",
       "      <td>-6</td>\n",
       "      <td>Not executable</td>\n",
       "    </tr>\n",
       "    <tr>\n",
       "      <th>2</th>\n",
       "      <td>Paco had 26 salty cookies and 17 sweet cookies...</td>\n",
       "      <td>How many salty cookies did Paco have left?</td>\n",
       "      <td>17</td>\n",
       "      <td>( 26.0 - 9.0 )</td>\n",
       "      <td>26-9</td>\n",
       "      <td>26+17-9</td>\n",
       "      <td>26-4</td>\n",
       "      <td>26-9</td>\n",
       "      <td>6+17-9</td>\n",
       "      <td>27-9</td>\n",
       "      <td>...</td>\n",
       "      <td>31</td>\n",
       "      <td>7</td>\n",
       "      <td>16</td>\n",
       "      <td>23</td>\n",
       "      <td>10</td>\n",
       "      <td>17</td>\n",
       "      <td>17</td>\n",
       "      <td>37</td>\n",
       "      <td>Not executable</td>\n",
       "      <td>27</td>\n",
       "    </tr>\n",
       "    <tr>\n",
       "      <th>3</th>\n",
       "      <td>43 children were riding on the bus. At the bus...</td>\n",
       "      <td>How many children got off the bus at the bus s...</td>\n",
       "      <td>22</td>\n",
       "      <td>( 43.0 - 21.0 )</td>\n",
       "      <td>43-21</td>\n",
       "      <td>43+21</td>\n",
       "      <td>4321-21</td>\n",
       "      <td>43-21</td>\n",
       "      <td>43 21</td>\n",
       "      <td>43-21</td>\n",
       "      <td>...</td>\n",
       "      <td>Not executable</td>\n",
       "      <td>22</td>\n",
       "      <td>4301</td>\n",
       "      <td>59</td>\n",
       "      <td>15</td>\n",
       "      <td>24</td>\n",
       "      <td>22</td>\n",
       "      <td>25</td>\n",
       "      <td>55</td>\n",
       "      <td>13</td>\n",
       "    </tr>\n",
       "    <tr>\n",
       "      <th>4</th>\n",
       "      <td>28 children were riding on the bus. At the bus...</td>\n",
       "      <td>How many more children got on the bus than tho...</td>\n",
       "      <td>2</td>\n",
       "      <td>( 30.0 - 28.0 )</td>\n",
       "      <td>30-28</td>\n",
       "      <td>30-82</td>\n",
       "      <td>30-30-28</td>\n",
       "      <td>30-30</td>\n",
       "      <td>30-30-82</td>\n",
       "      <td>30 28-82</td>\n",
       "      <td>...</td>\n",
       "      <td>-23</td>\n",
       "      <td>(30, -54)</td>\n",
       "      <td>28</td>\n",
       "      <td>-112</td>\n",
       "      <td>-28</td>\n",
       "      <td>110</td>\n",
       "      <td>3</td>\n",
       "      <td>-54</td>\n",
       "      <td>2</td>\n",
       "      <td>-21</td>\n",
       "    </tr>\n",
       "  </tbody>\n",
       "</table>\n",
       "<p>5 rows × 104 columns</p>\n",
       "</div>"
      ],
      "text/plain": [
       "                                             context  \\\n",
       "0  Each pack of dvds costs 76 dollars. If there i...   \n",
       "1  Dan had $ 3 left with him after he bought a ca...   \n",
       "2  Paco had 26 salty cookies and 17 sweet cookies...   \n",
       "3  43 children were riding on the bus. At the bus...   \n",
       "4  28 children were riding on the bus. At the bus...   \n",
       "\n",
       "                                            question  answer         Equation  \\\n",
       "0      How much do you have to pay to buy each pack?      51  ( 76.0 - 25.0 )   \n",
       "1                   How much did the candy bar cost?       1    ( 4.0 - 3.0 )   \n",
       "2         How many salty cookies did Paco have left?      17   ( 26.0 - 9.0 )   \n",
       "3  How many children got off the bus at the bus s...      22  ( 43.0 - 21.0 )   \n",
       "4  How many more children got on the bus than tho...       2  ( 30.0 - 28.0 )   \n",
       "\n",
       "  equation0 equation1 equation2 equation3 equation4 equation5  ...  \\\n",
       "0     76-25     76-25     76-25     76/25   4*76-25   75*4-25  ...   \n",
       "1       4-3   (4-3)*4       4+3       3+4   (4-5)-3   (4-3)*2  ...   \n",
       "2      26-9   26+17-9      26-4      26-9    6+17-9      27-9  ...   \n",
       "3     43-21     43+21   4321-21     43-21     43 21     43-21  ...   \n",
       "4     30-28     30-82  30-30-28     30-30  30-30-82  30 28-82  ...   \n",
       "\n",
       "       solution40 solution41 solution42      solution43 solution44 solution45  \\\n",
       "0            55.5         31         40             251         30        280   \n",
       "1              -2        4.0         16  Not executable         -3  -0.333333   \n",
       "2              31          7         16              23         10         17   \n",
       "3  Not executable         22       4301              59         15         24   \n",
       "4             -23  (30, -54)         28            -112        -28        110   \n",
       "\n",
       "  solution46 solution47      solution48      solution49  \n",
       "0         52         53             735  Not executable  \n",
       "1         -1      -2.25              -6  Not executable  \n",
       "2         17         37  Not executable              27  \n",
       "3         22         25              55              13  \n",
       "4          3        -54               2             -21  \n",
       "\n",
       "[5 rows x 104 columns]"
      ]
     },
     "execution_count": 45,
     "metadata": {},
     "output_type": "execute_result"
    }
   ],
   "source": [
    "# Concatenate them side by side\n",
    "concatenated_df = pd.concat([svamp_data, sequences1, answers1], axis=1)\n",
    "concatenated_df.head()"
   ]
  },
  {
   "cell_type": "code",
   "execution_count": 46,
   "id": "badb4811-8aaf-4738-ad39-8fbcad295239",
   "metadata": {},
   "outputs": [],
   "source": [
    "concatenated_df.to_csv('predictions_ce_svamp_mask_50_span_3.csv', index=False)"
   ]
  },
  {
   "cell_type": "markdown",
   "id": "87408539-c63b-45ae-a61c-90fb73d6d489",
   "metadata": {},
   "source": [
    "### We can use the same finetuned model for multiarith dataset as well and check the performance"
   ]
  },
  {
   "cell_type": "code",
   "execution_count": 47,
   "id": "8b433df1-c344-4f5d-b22d-7fd107eba80b",
   "metadata": {},
   "outputs": [],
   "source": [
    "mutiarith_data = pd.read_json(\"mutiarith.json\")"
   ]
  },
  {
   "cell_type": "code",
   "execution_count": 48,
   "id": "d7024676-3173-402d-ac48-0e47e2543abf",
   "metadata": {},
   "outputs": [
    {
     "data": {
      "text/plain": [
       "(1492, 7)"
      ]
     },
     "execution_count": 48,
     "metadata": {},
     "output_type": "execute_result"
    }
   ],
   "source": [
    "mutiarith_data.shape"
   ]
  },
  {
   "cell_type": "code",
   "execution_count": 49,
   "id": "7441417a-eeb3-44d1-afa4-b56b5a67c29e",
   "metadata": {},
   "outputs": [
    {
     "data": {
      "text/html": [
       "<div>\n",
       "<style scoped>\n",
       "    .dataframe tbody tr th:only-of-type {\n",
       "        vertical-align: middle;\n",
       "    }\n",
       "\n",
       "    .dataframe tbody tr th {\n",
       "        vertical-align: top;\n",
       "    }\n",
       "\n",
       "    .dataframe thead th {\n",
       "        text-align: right;\n",
       "    }\n",
       "</style>\n",
       "<table border=\"1\" class=\"dataframe\">\n",
       "  <thead>\n",
       "    <tr style=\"text-align: right;\">\n",
       "      <th></th>\n",
       "      <th>iIndex</th>\n",
       "      <th>sQuestion</th>\n",
       "      <th>quants</th>\n",
       "      <th>lAlignments</th>\n",
       "      <th>lEquations</th>\n",
       "      <th>lSolutions</th>\n",
       "      <th>rates</th>\n",
       "    </tr>\n",
       "  </thead>\n",
       "  <tbody>\n",
       "    <tr>\n",
       "      <th>0</th>\n",
       "      <td>1</td>\n",
       "      <td>Joan found 70.0 seashells on the beach . She g...</td>\n",
       "      <td>[70.0, 27.0]</td>\n",
       "      <td>[0, 1]</td>\n",
       "      <td>[X=(70.0-27.0)]</td>\n",
       "      <td>[43.0]</td>\n",
       "      <td>[]</td>\n",
       "    </tr>\n",
       "    <tr>\n",
       "      <th>1</th>\n",
       "      <td>2</td>\n",
       "      <td>There were 28.0 bales of hay in the barn . Tim...</td>\n",
       "      <td>[28.0, 54.0]</td>\n",
       "      <td>[1, 0]</td>\n",
       "      <td>[X=(54.0-28.0)]</td>\n",
       "      <td>[26.0]</td>\n",
       "      <td>[]</td>\n",
       "    </tr>\n",
       "    <tr>\n",
       "      <th>2</th>\n",
       "      <td>3</td>\n",
       "      <td>Mary is baking a cake . The recipe wants 8.0 c...</td>\n",
       "      <td>[8.0, 2.0]</td>\n",
       "      <td>[0, 1]</td>\n",
       "      <td>[X=(8.0-2.0)]</td>\n",
       "      <td>[6.0]</td>\n",
       "      <td>[]</td>\n",
       "    </tr>\n",
       "    <tr>\n",
       "      <th>3</th>\n",
       "      <td>4</td>\n",
       "      <td>Sara 's high school played 12.0 basketball gam...</td>\n",
       "      <td>[12.0, 4.0]</td>\n",
       "      <td>[0, 1]</td>\n",
       "      <td>[X=(12.0-4.0)]</td>\n",
       "      <td>[8.0]</td>\n",
       "      <td>[]</td>\n",
       "    </tr>\n",
       "    <tr>\n",
       "      <th>4</th>\n",
       "      <td>5</td>\n",
       "      <td>There are 22.0 walnut trees currently in the p...</td>\n",
       "      <td>[22.0, 55.0]</td>\n",
       "      <td>[1, 0]</td>\n",
       "      <td>[X=(55.0-22.0)]</td>\n",
       "      <td>[33.0]</td>\n",
       "      <td>[]</td>\n",
       "    </tr>\n",
       "  </tbody>\n",
       "</table>\n",
       "</div>"
      ],
      "text/plain": [
       "   iIndex                                          sQuestion        quants  \\\n",
       "0       1  Joan found 70.0 seashells on the beach . She g...  [70.0, 27.0]   \n",
       "1       2  There were 28.0 bales of hay in the barn . Tim...  [28.0, 54.0]   \n",
       "2       3  Mary is baking a cake . The recipe wants 8.0 c...    [8.0, 2.0]   \n",
       "3       4  Sara 's high school played 12.0 basketball gam...   [12.0, 4.0]   \n",
       "4       5  There are 22.0 walnut trees currently in the p...  [22.0, 55.0]   \n",
       "\n",
       "  lAlignments       lEquations lSolutions rates  \n",
       "0      [0, 1]  [X=(70.0-27.0)]     [43.0]    []  \n",
       "1      [1, 0]  [X=(54.0-28.0)]     [26.0]    []  \n",
       "2      [0, 1]    [X=(8.0-2.0)]      [6.0]    []  \n",
       "3      [0, 1]   [X=(12.0-4.0)]      [8.0]    []  \n",
       "4      [1, 0]  [X=(55.0-22.0)]     [33.0]    []  "
      ]
     },
     "execution_count": 49,
     "metadata": {},
     "output_type": "execute_result"
    }
   ],
   "source": [
    "mutiarith_data.head()"
   ]
  },
  {
   "cell_type": "code",
   "execution_count": 50,
   "id": "a72eddf8-0a2d-4e86-9629-482fadccccf5",
   "metadata": {},
   "outputs": [],
   "source": [
    "mutiarith_test = mutiarith_data[[\"sQuestion\", \"lEquations\", \"lSolutions\"]]"
   ]
  },
  {
   "cell_type": "code",
   "execution_count": 51,
   "id": "6d5c0db7-04ff-4f35-9870-886cd248b8c8",
   "metadata": {},
   "outputs": [
    {
     "name": "stderr",
     "output_type": "stream",
     "text": [
      "/tmp/ipykernel_143/3878747415.py:1: SettingWithCopyWarning: \n",
      "A value is trying to be set on a copy of a slice from a DataFrame\n",
      "\n",
      "See the caveats in the documentation: https://pandas.pydata.org/pandas-docs/stable/user_guide/indexing.html#returning-a-view-versus-a-copy\n",
      "  mutiarith_test.rename(columns={\n"
     ]
    }
   ],
   "source": [
    "mutiarith_test.rename(columns={\n",
    "    'lSolutions': 'answer'\n",
    "}, inplace=True)"
   ]
  },
  {
   "cell_type": "code",
   "execution_count": 52,
   "id": "a0e07fab-8a74-47bc-9bba-619a33d4f505",
   "metadata": {},
   "outputs": [
    {
     "data": {
      "text/html": [
       "<div>\n",
       "<style scoped>\n",
       "    .dataframe tbody tr th:only-of-type {\n",
       "        vertical-align: middle;\n",
       "    }\n",
       "\n",
       "    .dataframe tbody tr th {\n",
       "        vertical-align: top;\n",
       "    }\n",
       "\n",
       "    .dataframe thead th {\n",
       "        text-align: right;\n",
       "    }\n",
       "</style>\n",
       "<table border=\"1\" class=\"dataframe\">\n",
       "  <thead>\n",
       "    <tr style=\"text-align: right;\">\n",
       "      <th></th>\n",
       "      <th>sQuestion</th>\n",
       "      <th>lEquations</th>\n",
       "      <th>answer</th>\n",
       "    </tr>\n",
       "  </thead>\n",
       "  <tbody>\n",
       "    <tr>\n",
       "      <th>0</th>\n",
       "      <td>Joan found 70.0 seashells on the beach . She g...</td>\n",
       "      <td>[X=(70.0-27.0)]</td>\n",
       "      <td>[43.0]</td>\n",
       "    </tr>\n",
       "    <tr>\n",
       "      <th>1</th>\n",
       "      <td>There were 28.0 bales of hay in the barn . Tim...</td>\n",
       "      <td>[X=(54.0-28.0)]</td>\n",
       "      <td>[26.0]</td>\n",
       "    </tr>\n",
       "    <tr>\n",
       "      <th>2</th>\n",
       "      <td>Mary is baking a cake . The recipe wants 8.0 c...</td>\n",
       "      <td>[X=(8.0-2.0)]</td>\n",
       "      <td>[6.0]</td>\n",
       "    </tr>\n",
       "    <tr>\n",
       "      <th>3</th>\n",
       "      <td>Sara 's high school played 12.0 basketball gam...</td>\n",
       "      <td>[X=(12.0-4.0)]</td>\n",
       "      <td>[8.0]</td>\n",
       "    </tr>\n",
       "    <tr>\n",
       "      <th>4</th>\n",
       "      <td>There are 22.0 walnut trees currently in the p...</td>\n",
       "      <td>[X=(55.0-22.0)]</td>\n",
       "      <td>[33.0]</td>\n",
       "    </tr>\n",
       "  </tbody>\n",
       "</table>\n",
       "</div>"
      ],
      "text/plain": [
       "                                           sQuestion       lEquations  answer\n",
       "0  Joan found 70.0 seashells on the beach . She g...  [X=(70.0-27.0)]  [43.0]\n",
       "1  There were 28.0 bales of hay in the barn . Tim...  [X=(54.0-28.0)]  [26.0]\n",
       "2  Mary is baking a cake . The recipe wants 8.0 c...    [X=(8.0-2.0)]   [6.0]\n",
       "3  Sara 's high school played 12.0 basketball gam...   [X=(12.0-4.0)]   [8.0]\n",
       "4  There are 22.0 walnut trees currently in the p...  [X=(55.0-22.0)]  [33.0]"
      ]
     },
     "execution_count": 52,
     "metadata": {},
     "output_type": "execute_result"
    }
   ],
   "source": [
    "mutiarith_test.head()"
   ]
  },
  {
   "cell_type": "code",
   "execution_count": 53,
   "id": "45c8f0a3-1cc3-495c-951d-9fdf4ad2b778",
   "metadata": {},
   "outputs": [
    {
     "name": "stderr",
     "output_type": "stream",
     "text": [
      "/tmp/ipykernel_143/3076847272.py:10: SettingWithCopyWarning: \n",
      "A value is trying to be set on a copy of a slice from a DataFrame.\n",
      "Try using .loc[row_indexer,col_indexer] = value instead\n",
      "\n",
      "See the caveats in the documentation: https://pandas.pydata.org/pandas-docs/stable/user_guide/indexing.html#returning-a-view-versus-a-copy\n",
      "  mutiarith_test[[\"question\", \"context\"]] = mutiarith_test.apply(lambda row: split_sentence(row), axis=1)\n",
      "/tmp/ipykernel_143/3076847272.py:10: SettingWithCopyWarning: \n",
      "A value is trying to be set on a copy of a slice from a DataFrame.\n",
      "Try using .loc[row_indexer,col_indexer] = value instead\n",
      "\n",
      "See the caveats in the documentation: https://pandas.pydata.org/pandas-docs/stable/user_guide/indexing.html#returning-a-view-versus-a-copy\n",
      "  mutiarith_test[[\"question\", \"context\"]] = mutiarith_test.apply(lambda row: split_sentence(row), axis=1)\n"
     ]
    }
   ],
   "source": [
    "# Define a function to split the sentence into question and context\n",
    "def split_sentence(row):\n",
    "    sentence = row[\"sQuestion\"]\n",
    "    sentences = sentence.split(\". \")\n",
    "    question = sentences[-1]\n",
    "    context = \". \".join(sentences[:-1])\n",
    "    return pd.Series({\"question\": question, \"context\": context})\n",
    "\n",
    "# Apply the split_sentence function to the DataFrame\n",
    "mutiarith_test[[\"question\", \"context\"]] = mutiarith_test.apply(lambda row: split_sentence(row), axis=1)\n",
    "\n",
    "# Drop the original \"sentence\" column if needed\n",
    "test_set = mutiarith_test.drop(columns=[\"sQuestion\"])"
   ]
  },
  {
   "cell_type": "code",
   "execution_count": 54,
   "id": "968add90-7d41-4521-9ff8-1147b7837d0f",
   "metadata": {},
   "outputs": [
    {
     "data": {
      "text/html": [
       "<div>\n",
       "<style scoped>\n",
       "    .dataframe tbody tr th:only-of-type {\n",
       "        vertical-align: middle;\n",
       "    }\n",
       "\n",
       "    .dataframe tbody tr th {\n",
       "        vertical-align: top;\n",
       "    }\n",
       "\n",
       "    .dataframe thead th {\n",
       "        text-align: right;\n",
       "    }\n",
       "</style>\n",
       "<table border=\"1\" class=\"dataframe\">\n",
       "  <thead>\n",
       "    <tr style=\"text-align: right;\">\n",
       "      <th></th>\n",
       "      <th>lEquations</th>\n",
       "      <th>answer</th>\n",
       "      <th>question</th>\n",
       "      <th>context</th>\n",
       "    </tr>\n",
       "  </thead>\n",
       "  <tbody>\n",
       "    <tr>\n",
       "      <th>0</th>\n",
       "      <td>[X=(70.0-27.0)]</td>\n",
       "      <td>[43.0]</td>\n",
       "      <td>How many seashells did she give to Sam ?</td>\n",
       "      <td>Joan found 70.0 seashells on the beach . She g...</td>\n",
       "    </tr>\n",
       "    <tr>\n",
       "      <th>1</th>\n",
       "      <td>[X=(54.0-28.0)]</td>\n",
       "      <td>[26.0]</td>\n",
       "      <td>How many bales did he store in the barn ?</td>\n",
       "      <td>There were 28.0 bales of hay in the barn . Tim...</td>\n",
       "    </tr>\n",
       "    <tr>\n",
       "      <th>2</th>\n",
       "      <td>[X=(8.0-2.0)]</td>\n",
       "      <td>[6.0]</td>\n",
       "      <td>How many cups does she need to add ?</td>\n",
       "      <td>Mary is baking a cake . The recipe wants 8.0 c...</td>\n",
       "    </tr>\n",
       "    <tr>\n",
       "      <th>3</th>\n",
       "      <td>[X=(12.0-4.0)]</td>\n",
       "      <td>[8.0]</td>\n",
       "      <td>How many games did they win ?</td>\n",
       "      <td>Sara 's high school played 12.0 basketball gam...</td>\n",
       "    </tr>\n",
       "    <tr>\n",
       "      <th>4</th>\n",
       "      <td>[X=(55.0-22.0)]</td>\n",
       "      <td>[33.0]</td>\n",
       "      <td>How many walnut trees did the workers plant to...</td>\n",
       "      <td>There are 22.0 walnut trees currently in the p...</td>\n",
       "    </tr>\n",
       "  </tbody>\n",
       "</table>\n",
       "</div>"
      ],
      "text/plain": [
       "        lEquations  answer                                           question  \\\n",
       "0  [X=(70.0-27.0)]  [43.0]           How many seashells did she give to Sam ?   \n",
       "1  [X=(54.0-28.0)]  [26.0]          How many bales did he store in the barn ?   \n",
       "2    [X=(8.0-2.0)]   [6.0]               How many cups does she need to add ?   \n",
       "3   [X=(12.0-4.0)]   [8.0]                      How many games did they win ?   \n",
       "4  [X=(55.0-22.0)]  [33.0]  How many walnut trees did the workers plant to...   \n",
       "\n",
       "                                             context  \n",
       "0  Joan found 70.0 seashells on the beach . She g...  \n",
       "1  There were 28.0 bales of hay in the barn . Tim...  \n",
       "2  Mary is baking a cake . The recipe wants 8.0 c...  \n",
       "3  Sara 's high school played 12.0 basketball gam...  \n",
       "4  There are 22.0 walnut trees currently in the p...  "
      ]
     },
     "execution_count": 54,
     "metadata": {},
     "output_type": "execute_result"
    }
   ],
   "source": [
    "test_set.head()"
   ]
  },
  {
   "cell_type": "code",
   "execution_count": 55,
   "id": "b4170963-76ab-429f-99c5-44126e6e8b1b",
   "metadata": {},
   "outputs": [],
   "source": [
    "def generate_answer(question, return_sequences):\n",
    "    source_encoding = tokenizer(\n",
    "        question[\"question\"],\n",
    "        question[\"context\"],\n",
    "        max_length=400,\n",
    "        padding=\"max_length\",\n",
    "        truncation=True,\n",
    "        return_attention_mask=True,\n",
    "        add_special_tokens=True,\n",
    "        return_tensors='pt'\n",
    "    )\n",
    "\n",
    "    # Move the input tensors to the same device as the model\n",
    "    input_ids = source_encoding[\"input_ids\"].to(finetuned_model.device)\n",
    "    attention_mask = source_encoding[\"attention_mask\"].to(finetuned_model.device)\n",
    "\n",
    "    generated_ids = finetuned_model.model.generate(\n",
    "        input_ids=input_ids,\n",
    "        attention_mask=attention_mask,\n",
    "        num_beams=80,\n",
    "        max_length=100,\n",
    "        early_stopping=True,\n",
    "        use_cache=True,\n",
    "        #repetition_penalty=2.0,\n",
    "        #temperature=0.8,\n",
    "        num_return_sequences = return_sequences\n",
    "    )\n",
    "\n",
    "    preds = [tokenizer.decode(gen_id, skip_special_tokens=True, clean_up_tokenization_space=True)\n",
    "             for gen_id in generated_ids]\n",
    "\n",
    "    return preds#\" \".join(preds)"
   ]
  },
  {
   "cell_type": "code",
   "execution_count": 56,
   "id": "369f8dd6-2227-4d86-969b-009155fe2b6b",
   "metadata": {},
   "outputs": [
    {
     "name": "stdout",
     "output_type": "stream",
     "text": [
      "['70.0-27.0', '70-27.0']\n"
     ]
    }
   ],
   "source": [
    "# Assuming you have the tokenizer and finetuned_model already defined and initialized\n",
    "# Question and Context data\n",
    "question_data = {\n",
    "    \"question\": \"How many seashells did she give to Sam ?\",\n",
    "    \"context\": \"Joan found 70.0 seashells on the beach . She gave Sam some of her seashells . She has 27.0 seashells \"\n",
    "}\n",
    "\n",
    "# Get the output\n",
    "return_sequences = 2  # Set to True if you want multiple generated sequences\n",
    "output = generate_answer(question_data, return_sequences)\n",
    "print(output)  # This will print the generated answer\n"
   ]
  },
  {
   "cell_type": "code",
   "execution_count": 57,
   "id": "b6b470ef-ffdd-4ce4-94a3-58f511dc47e3",
   "metadata": {},
   "outputs": [
    {
     "name": "stdout",
     "output_type": "stream",
     "text": [
      "sequence generation complete\n"
     ]
    }
   ],
   "source": [
    "import warnings\n",
    "\n",
    "# Use the filterwarnings function to suppress SyntaxWarning\n",
    "warnings.filterwarnings(\"ignore\", category=SyntaxWarning)\n",
    "\n",
    "pass_outcome = {}\n",
    "temp_list = []\n",
    "# Generate sequences for the largest value in pass_list\n",
    "max_return_seq = 50 #max(pass_list)\n",
    "sequences = {}  # Dictionary to store the generated sequences for each question\n",
    "answers = {}\n",
    "for i in range(len(test_set)):\n",
    "    question = test_set.iloc[i]\n",
    "    sequences[i] = generate_answer(question, max_return_seq)\n",
    "    temp_list = []\n",
    "    for j in range(len(sequences[i])):\n",
    "        try:\n",
    "            temp_list.append(eval(sequences[i][j]))            \n",
    "        except:\n",
    "            temp_list.append(\"Not executable\")\n",
    "    answers[i] = temp_list\n",
    "    \n",
    "print(\"sequence generation complete\")"
   ]
  },
  {
   "cell_type": "code",
   "execution_count": 58,
   "id": "b2975251-1ba7-4de1-9966-2c56fb8451dc",
   "metadata": {},
   "outputs": [
    {
     "data": {
      "text/html": [
       "<div>\n",
       "<style scoped>\n",
       "    .dataframe tbody tr th:only-of-type {\n",
       "        vertical-align: middle;\n",
       "    }\n",
       "\n",
       "    .dataframe tbody tr th {\n",
       "        vertical-align: top;\n",
       "    }\n",
       "\n",
       "    .dataframe thead th {\n",
       "        text-align: right;\n",
       "    }\n",
       "</style>\n",
       "<table border=\"1\" class=\"dataframe\">\n",
       "  <thead>\n",
       "    <tr style=\"text-align: right;\">\n",
       "      <th></th>\n",
       "      <th>0</th>\n",
       "      <th>1</th>\n",
       "      <th>2</th>\n",
       "      <th>3</th>\n",
       "      <th>4</th>\n",
       "      <th>5</th>\n",
       "      <th>6</th>\n",
       "      <th>7</th>\n",
       "      <th>8</th>\n",
       "      <th>9</th>\n",
       "      <th>...</th>\n",
       "      <th>40</th>\n",
       "      <th>41</th>\n",
       "      <th>42</th>\n",
       "      <th>43</th>\n",
       "      <th>44</th>\n",
       "      <th>45</th>\n",
       "      <th>46</th>\n",
       "      <th>47</th>\n",
       "      <th>48</th>\n",
       "      <th>49</th>\n",
       "    </tr>\n",
       "  </thead>\n",
       "  <tbody>\n",
       "    <tr>\n",
       "      <th>0</th>\n",
       "      <td>70.0-27.0</td>\n",
       "      <td>70-27.0</td>\n",
       "      <td>70-20-27.0</td>\n",
       "      <td>70+27.0</td>\n",
       "      <td>700.2-27.0</td>\n",
       "      <td>700-0-27.0</td>\n",
       "      <td>700.0-27.0</td>\n",
       "      <td>70-27</td>\n",
       "      <td>70.2-27.0</td>\n",
       "      <td>70.0-27</td>\n",
       "      <td>...</td>\n",
       "      <td>70.0-27.</td>\n",
       "      <td>70.0-28.0</td>\n",
       "      <td>70.00-27.0</td>\n",
       "      <td>70+ 27.0</td>\n",
       "      <td>70-20-27</td>\n",
       "      <td>700-27.7</td>\n",
       "      <td>700.0-27</td>\n",
       "      <td>10.0-27.0</td>\n",
       "      <td>1.0-27</td>\n",
       "      <td>70.0-25.8</td>\n",
       "    </tr>\n",
       "    <tr>\n",
       "      <th>1</th>\n",
       "      <td>54.0-28</td>\n",
       "      <td>54.0-28.0</td>\n",
       "      <td>534.0-28</td>\n",
       "      <td>554.0-28</td>\n",
       "      <td>524.0-28</td>\n",
       "      <td>534.0-28.0</td>\n",
       "      <td>54.0-25.8</td>\n",
       "      <td>54.0-28</td>\n",
       "      <td>504.0-28</td>\n",
       "      <td>53.40-28</td>\n",
       "      <td>...</td>\n",
       "      <td>534.0-25.8</td>\n",
       "      <td>54.0-28</td>\n",
       "      <td>-54.0-28</td>\n",
       "      <td>524.0-28.0</td>\n",
       "      <td>(54.0-28)</td>\n",
       "      <td>58.0-28</td>\n",
       "      <td>54.0-28.0</td>\n",
       "      <td>528.0-28</td>\n",
       "      <td>54.0 28.8</td>\n",
       "      <td>514.0-28.0</td>\n",
       "    </tr>\n",
       "    <tr>\n",
       "      <th>2</th>\n",
       "      <td>8.0-2</td>\n",
       "      <td>8.0-2.0</td>\n",
       "      <td>8.0-2.0</td>\n",
       "      <td>8-2</td>\n",
       "      <td>8.0-0.2</td>\n",
       "      <td>8.0-2</td>\n",
       "      <td>(8.0-2)</td>\n",
       "      <td>8.0-0.2</td>\n",
       "      <td>8.0+2.0</td>\n",
       "      <td>8000-2.0</td>\n",
       "      <td>...</td>\n",
       "      <td>the 8.0-2</td>\n",
       "      <td>0.8-2</td>\n",
       "      <td>8.0-2</td>\n",
       "      <td>8.0+2.0</td>\n",
       "      <td>8.0-.2</td>\n",
       "      <td>8.0-2.5</td>\n",
       "      <td>of 8.0-2</td>\n",
       "      <td>, 8.0-2</td>\n",
       "      <td>8.0- 2.0</td>\n",
       "      <td>14.0-2</td>\n",
       "    </tr>\n",
       "    <tr>\n",
       "      <th>3</th>\n",
       "      <td>12.0-4</td>\n",
       "      <td>12.0-4.0</td>\n",
       "      <td>12.0+4.0</td>\n",
       "      <td>12.0-4.0</td>\n",
       "      <td>124.0-4</td>\n",
       "      <td>12+4.0</td>\n",
       "      <td>124.0-4.0</td>\n",
       "      <td>120-4.0</td>\n",
       "      <td>12-4</td>\n",
       "      <td>12.0-3</td>\n",
       "      <td>...</td>\n",
       "      <td>120.4+4.0</td>\n",
       "      <td>12.20-4</td>\n",
       "      <td>120.2-4.0</td>\n",
       "      <td>1240-4.0</td>\n",
       "      <td>12-20</td>\n",
       "      <td>12.2-4</td>\n",
       "      <td>12-40</td>\n",
       "      <td>1240-4</td>\n",
       "      <td>120-0.4</td>\n",
       "      <td>14.0-4.0</td>\n",
       "    </tr>\n",
       "    <tr>\n",
       "      <th>4</th>\n",
       "      <td>55.0-22.0</td>\n",
       "      <td>55.0-22</td>\n",
       "      <td>55.0-22.0</td>\n",
       "      <td>55.0-22.20</td>\n",
       "      <td>55.0-20.2</td>\n",
       "      <td>55.0-220</td>\n",
       "      <td>55.0-24.0</td>\n",
       "      <td>55.0-22.2</td>\n",
       "      <td>55.0- 22.0</td>\n",
       "      <td>55.0-22.8</td>\n",
       "      <td>...</td>\n",
       "      <td>55.0- 220</td>\n",
       "      <td>55.0-22+2</td>\n",
       "      <td>55.0-20.2</td>\n",
       "      <td>550- 22.0</td>\n",
       "      <td>55.00-22.0</td>\n",
       "      <td>55.0-22</td>\n",
       "      <td>55.0-22-0</td>\n",
       "      <td>55.0-22.0</td>\n",
       "      <td>55.0-220.2</td>\n",
       "      <td>22.0+55.0</td>\n",
       "    </tr>\n",
       "  </tbody>\n",
       "</table>\n",
       "<p>5 rows × 50 columns</p>\n",
       "</div>"
      ],
      "text/plain": [
       "          0          1           2           3           4           5   \\\n",
       "0  70.0-27.0    70-27.0  70-20-27.0     70+27.0  700.2-27.0  700-0-27.0   \n",
       "1    54.0-28  54.0-28.0    534.0-28    554.0-28    524.0-28  534.0-28.0   \n",
       "2      8.0-2    8.0-2.0     8.0-2.0         8-2     8.0-0.2       8.0-2   \n",
       "3     12.0-4   12.0-4.0    12.0+4.0    12.0-4.0     124.0-4      12+4.0   \n",
       "4  55.0-22.0    55.0-22   55.0-22.0  55.0-22.20   55.0-20.2    55.0-220   \n",
       "\n",
       "           6          7           8          9   ...          40         41  \\\n",
       "0  700.0-27.0      70-27   70.2-27.0    70.0-27  ...    70.0-27.  70.0-28.0   \n",
       "1   54.0-25.8    54.0-28    504.0-28   53.40-28  ...  534.0-25.8    54.0-28   \n",
       "2     (8.0-2)    8.0-0.2     8.0+2.0   8000-2.0  ...   the 8.0-2      0.8-2   \n",
       "3   124.0-4.0    120-4.0        12-4     12.0-3  ...   120.4+4.0    12.20-4   \n",
       "4   55.0-24.0  55.0-22.2  55.0- 22.0  55.0-22.8  ...   55.0- 220  55.0-22+2   \n",
       "\n",
       "           42          43          44        45         46         47  \\\n",
       "0  70.00-27.0    70+ 27.0    70-20-27  700-27.7   700.0-27  10.0-27.0   \n",
       "1    -54.0-28  524.0-28.0   (54.0-28)   58.0-28  54.0-28.0   528.0-28   \n",
       "2       8.0-2     8.0+2.0      8.0-.2   8.0-2.5   of 8.0-2    , 8.0-2   \n",
       "3   120.2-4.0    1240-4.0       12-20    12.2-4      12-40     1240-4   \n",
       "4   55.0-20.2   550- 22.0  55.00-22.0   55.0-22  55.0-22-0  55.0-22.0   \n",
       "\n",
       "           48          49  \n",
       "0      1.0-27   70.0-25.8  \n",
       "1   54.0 28.8  514.0-28.0  \n",
       "2    8.0- 2.0      14.0-2  \n",
       "3     120-0.4    14.0-4.0  \n",
       "4  55.0-220.2   22.0+55.0  \n",
       "\n",
       "[5 rows x 50 columns]"
      ]
     },
     "execution_count": 58,
     "metadata": {},
     "output_type": "execute_result"
    }
   ],
   "source": [
    "sequences2 = pd.DataFrame.from_dict(sequences, orient='index')\n",
    "answers2 = pd.DataFrame.from_dict(answers, orient='index')\n",
    "sequences2.head()"
   ]
  },
  {
   "cell_type": "code",
   "execution_count": 59,
   "id": "a9d75bab-9f29-43bd-b727-adcd99bd62ef",
   "metadata": {},
   "outputs": [],
   "source": [
    "# You can create a dictionary to map old column names to new column names\n",
    "column_mapping = {i: f\"equation{i}\" for i in range(max_return_seq+1)}\n",
    "\n",
    "# Use the 'rename' method with the 'columns' parameter to rename the columns\n",
    "sequences2.rename(columns=column_mapping, inplace=True)"
   ]
  },
  {
   "cell_type": "code",
   "execution_count": 60,
   "id": "1503e14f-1437-4d70-9b45-f1fd0f9a5f36",
   "metadata": {},
   "outputs": [],
   "source": [
    "# You can create a dictionary to map old column names to new column names\n",
    "column_mapping = {i: f\"solution{i}\" for i in range(max_return_seq+1)}\n",
    "\n",
    "# Use the 'rename' method with the 'columns' parameter to rename the columns\n",
    "answers2.rename(columns=column_mapping, inplace=True)"
   ]
  },
  {
   "cell_type": "code",
   "execution_count": 61,
   "id": "0c42724d-9f78-4f3a-b80f-a0814f8edf7f",
   "metadata": {},
   "outputs": [
    {
     "data": {
      "text/html": [
       "<div>\n",
       "<style scoped>\n",
       "    .dataframe tbody tr th:only-of-type {\n",
       "        vertical-align: middle;\n",
       "    }\n",
       "\n",
       "    .dataframe tbody tr th {\n",
       "        vertical-align: top;\n",
       "    }\n",
       "\n",
       "    .dataframe thead th {\n",
       "        text-align: right;\n",
       "    }\n",
       "</style>\n",
       "<table border=\"1\" class=\"dataframe\">\n",
       "  <thead>\n",
       "    <tr style=\"text-align: right;\">\n",
       "      <th></th>\n",
       "      <th>lEquations</th>\n",
       "      <th>answer</th>\n",
       "      <th>question</th>\n",
       "      <th>context</th>\n",
       "      <th>equation0</th>\n",
       "      <th>equation1</th>\n",
       "      <th>equation2</th>\n",
       "      <th>equation3</th>\n",
       "      <th>equation4</th>\n",
       "      <th>equation5</th>\n",
       "      <th>...</th>\n",
       "      <th>solution40</th>\n",
       "      <th>solution41</th>\n",
       "      <th>solution42</th>\n",
       "      <th>solution43</th>\n",
       "      <th>solution44</th>\n",
       "      <th>solution45</th>\n",
       "      <th>solution46</th>\n",
       "      <th>solution47</th>\n",
       "      <th>solution48</th>\n",
       "      <th>solution49</th>\n",
       "    </tr>\n",
       "  </thead>\n",
       "  <tbody>\n",
       "    <tr>\n",
       "      <th>0</th>\n",
       "      <td>[X=(70.0-27.0)]</td>\n",
       "      <td>[43.0]</td>\n",
       "      <td>How many seashells did she give to Sam ?</td>\n",
       "      <td>Joan found 70.0 seashells on the beach . She g...</td>\n",
       "      <td>70.0-27.0</td>\n",
       "      <td>70-27.0</td>\n",
       "      <td>70-20-27.0</td>\n",
       "      <td>70+27.0</td>\n",
       "      <td>700.2-27.0</td>\n",
       "      <td>700-0-27.0</td>\n",
       "      <td>...</td>\n",
       "      <td>43.0</td>\n",
       "      <td>42.0</td>\n",
       "      <td>43.0</td>\n",
       "      <td>97.0</td>\n",
       "      <td>23</td>\n",
       "      <td>672.3</td>\n",
       "      <td>673.0</td>\n",
       "      <td>-17.0</td>\n",
       "      <td>-26.0</td>\n",
       "      <td>44.2</td>\n",
       "    </tr>\n",
       "    <tr>\n",
       "      <th>1</th>\n",
       "      <td>[X=(54.0-28.0)]</td>\n",
       "      <td>[26.0]</td>\n",
       "      <td>How many bales did he store in the barn ?</td>\n",
       "      <td>There were 28.0 bales of hay in the barn . Tim...</td>\n",
       "      <td>54.0-28</td>\n",
       "      <td>54.0-28.0</td>\n",
       "      <td>534.0-28</td>\n",
       "      <td>554.0-28</td>\n",
       "      <td>524.0-28</td>\n",
       "      <td>534.0-28.0</td>\n",
       "      <td>...</td>\n",
       "      <td>508.2</td>\n",
       "      <td>26.0</td>\n",
       "      <td>-82.0</td>\n",
       "      <td>496.0</td>\n",
       "      <td>26.0</td>\n",
       "      <td>30.0</td>\n",
       "      <td>26.0</td>\n",
       "      <td>500.0</td>\n",
       "      <td>Not executable</td>\n",
       "      <td>486.0</td>\n",
       "    </tr>\n",
       "    <tr>\n",
       "      <th>2</th>\n",
       "      <td>[X=(8.0-2.0)]</td>\n",
       "      <td>[6.0]</td>\n",
       "      <td>How many cups does she need to add ?</td>\n",
       "      <td>Mary is baking a cake . The recipe wants 8.0 c...</td>\n",
       "      <td>8.0-2</td>\n",
       "      <td>8.0-2.0</td>\n",
       "      <td>8.0-2.0</td>\n",
       "      <td>8-2</td>\n",
       "      <td>8.0-0.2</td>\n",
       "      <td>8.0-2</td>\n",
       "      <td>...</td>\n",
       "      <td>Not executable</td>\n",
       "      <td>-1.2</td>\n",
       "      <td>6.0</td>\n",
       "      <td>10.0</td>\n",
       "      <td>7.8</td>\n",
       "      <td>5.5</td>\n",
       "      <td>Not executable</td>\n",
       "      <td>Not executable</td>\n",
       "      <td>6.0</td>\n",
       "      <td>12.0</td>\n",
       "    </tr>\n",
       "    <tr>\n",
       "      <th>3</th>\n",
       "      <td>[X=(12.0-4.0)]</td>\n",
       "      <td>[8.0]</td>\n",
       "      <td>How many games did they win ?</td>\n",
       "      <td>Sara 's high school played 12.0 basketball gam...</td>\n",
       "      <td>12.0-4</td>\n",
       "      <td>12.0-4.0</td>\n",
       "      <td>12.0+4.0</td>\n",
       "      <td>12.0-4.0</td>\n",
       "      <td>124.0-4</td>\n",
       "      <td>12+4.0</td>\n",
       "      <td>...</td>\n",
       "      <td>124.4</td>\n",
       "      <td>8.2</td>\n",
       "      <td>116.2</td>\n",
       "      <td>1236.0</td>\n",
       "      <td>-8</td>\n",
       "      <td>8.2</td>\n",
       "      <td>-28</td>\n",
       "      <td>1236</td>\n",
       "      <td>119.6</td>\n",
       "      <td>10.0</td>\n",
       "    </tr>\n",
       "    <tr>\n",
       "      <th>4</th>\n",
       "      <td>[X=(55.0-22.0)]</td>\n",
       "      <td>[33.0]</td>\n",
       "      <td>How many walnut trees did the workers plant to...</td>\n",
       "      <td>There are 22.0 walnut trees currently in the p...</td>\n",
       "      <td>55.0-22.0</td>\n",
       "      <td>55.0-22</td>\n",
       "      <td>55.0-22.0</td>\n",
       "      <td>55.0-22.20</td>\n",
       "      <td>55.0-20.2</td>\n",
       "      <td>55.0-220</td>\n",
       "      <td>...</td>\n",
       "      <td>-165.0</td>\n",
       "      <td>35.0</td>\n",
       "      <td>34.8</td>\n",
       "      <td>528.0</td>\n",
       "      <td>33.0</td>\n",
       "      <td>33.0</td>\n",
       "      <td>33.0</td>\n",
       "      <td>33.0</td>\n",
       "      <td>-165.2</td>\n",
       "      <td>77.0</td>\n",
       "    </tr>\n",
       "  </tbody>\n",
       "</table>\n",
       "<p>5 rows × 104 columns</p>\n",
       "</div>"
      ],
      "text/plain": [
       "        lEquations  answer                                           question  \\\n",
       "0  [X=(70.0-27.0)]  [43.0]           How many seashells did she give to Sam ?   \n",
       "1  [X=(54.0-28.0)]  [26.0]          How many bales did he store in the barn ?   \n",
       "2    [X=(8.0-2.0)]   [6.0]               How many cups does she need to add ?   \n",
       "3   [X=(12.0-4.0)]   [8.0]                      How many games did they win ?   \n",
       "4  [X=(55.0-22.0)]  [33.0]  How many walnut trees did the workers plant to...   \n",
       "\n",
       "                                             context  equation0  equation1  \\\n",
       "0  Joan found 70.0 seashells on the beach . She g...  70.0-27.0    70-27.0   \n",
       "1  There were 28.0 bales of hay in the barn . Tim...    54.0-28  54.0-28.0   \n",
       "2  Mary is baking a cake . The recipe wants 8.0 c...      8.0-2    8.0-2.0   \n",
       "3  Sara 's high school played 12.0 basketball gam...     12.0-4   12.0-4.0   \n",
       "4  There are 22.0 walnut trees currently in the p...  55.0-22.0    55.0-22   \n",
       "\n",
       "    equation2   equation3   equation4   equation5  ...      solution40  \\\n",
       "0  70-20-27.0     70+27.0  700.2-27.0  700-0-27.0  ...            43.0   \n",
       "1    534.0-28    554.0-28    524.0-28  534.0-28.0  ...           508.2   \n",
       "2     8.0-2.0         8-2     8.0-0.2       8.0-2  ...  Not executable   \n",
       "3    12.0+4.0    12.0-4.0     124.0-4      12+4.0  ...           124.4   \n",
       "4   55.0-22.0  55.0-22.20   55.0-20.2    55.0-220  ...          -165.0   \n",
       "\n",
       "  solution41 solution42 solution43 solution44 solution45      solution46  \\\n",
       "0       42.0       43.0       97.0         23      672.3           673.0   \n",
       "1       26.0      -82.0      496.0       26.0       30.0            26.0   \n",
       "2       -1.2        6.0       10.0        7.8        5.5  Not executable   \n",
       "3        8.2      116.2     1236.0         -8        8.2             -28   \n",
       "4       35.0       34.8      528.0       33.0       33.0            33.0   \n",
       "\n",
       "       solution47      solution48 solution49  \n",
       "0           -17.0           -26.0       44.2  \n",
       "1           500.0  Not executable      486.0  \n",
       "2  Not executable             6.0       12.0  \n",
       "3            1236           119.6       10.0  \n",
       "4            33.0          -165.2       77.0  \n",
       "\n",
       "[5 rows x 104 columns]"
      ]
     },
     "execution_count": 61,
     "metadata": {},
     "output_type": "execute_result"
    }
   ],
   "source": [
    "# Concatenate them side by side\n",
    "concatenated_df = pd.concat([test_set, sequences2, answers2], axis=1)\n",
    "concatenated_df.head()"
   ]
  },
  {
   "cell_type": "code",
   "execution_count": 62,
   "id": "f016b71b-4c10-4d13-bdd2-6da96edc36ef",
   "metadata": {},
   "outputs": [],
   "source": [
    "concatenated_df.to_csv('predictions_ce_multiarith_mask_50_span_3.csv', index=False)"
   ]
  },
  {
   "cell_type": "code",
   "execution_count": null,
   "id": "91c2c8c9-2310-465e-a99e-95205a365620",
   "metadata": {},
   "outputs": [],
   "source": []
  },
  {
   "cell_type": "code",
   "execution_count": null,
   "id": "d52c30b6-6921-499a-b6c1-f7a18c260f25",
   "metadata": {},
   "outputs": [],
   "source": []
  }
 ],
 "metadata": {
  "kernelspec": {
   "display_name": "PyTorch 1.13 (NGC 22.05/Python 3.8 Conda) on Backend.AI",
   "language": "python",
   "name": "python3"
  },
  "language_info": {
   "codemirror_mode": {
    "name": "ipython",
    "version": 3
   },
   "file_extension": ".py",
   "mimetype": "text/x-python",
   "name": "python",
   "nbconvert_exporter": "python",
   "pygments_lexer": "ipython3",
   "version": "3.8.13"
  }
 },
 "nbformat": 4,
 "nbformat_minor": 5
}
